{
 "cells": [
  {
   "cell_type": "markdown",
   "metadata": {},
   "source": [
    "# Partners: Radhika Mardikar, Xinxin Mo"
   ]
  },
  {
   "cell_type": "markdown",
   "metadata": {},
   "source": [
    "\n",
    "First we located our data by \"cd\"-ing /data/lab8. \n",
    "\n",
    "_Why do we expect short reads to produce a more fragmented assembly than long reads?_\n",
    "\n",
    "We expect short reads to produce a more fragmented assembly because each of the reads are small and arbitrary while long reads are much more coherent and therefor produce a less broken up assembly.\n",
    "\n",
    "_Why does a single-molecule sequencing like PacBio have a higher error rate than Illumina?_\n",
    "\n",
    "Single-molecule sequencing has a higher error rate than Illumina because PacBio is less thorough with sequencing since it deals with longer reads and is inefficient to go through the same data multiple times. Illumina on the other hand usually deals with smaller sequences and creates multiple contigs for a read while PacBio does not. However, for creating scaffolds, having more coverage is preferable to higher accuracy. \n",
    "\n",
    "We created a screen by typing in screen to the command line. Then we add in the spade command line:\n",
    "\n",
    "spades.py -1 /data/lab8/illumina_reads_R1.fastq -2 /data/lab8/illumina_reads_R2.fastq --pacbio /data/lab8/pacbio_reads.fastq -t 1 -o /home/be131-03/lab8/lab8_new"
   ]
  },
  {
   "cell_type": "code",
   "execution_count": null,
   "metadata": {},
   "outputs": [],
   "source": []
  }
 ],
 "metadata": {
  "kernelspec": {
   "display_name": "Python 3",
   "language": "python",
   "name": "python3"
  },
  "language_info": {
   "codemirror_mode": {
    "name": "ipython",
    "version": 3
   },
   "file_extension": ".py",
   "mimetype": "text/x-python",
   "name": "python",
   "nbconvert_exporter": "python",
   "pygments_lexer": "ipython3",
   "version": "3.6.6"
  }
 },
 "nbformat": 4,
 "nbformat_minor": 2
}

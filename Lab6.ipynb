{
 "cells": [
  {
   "cell_type": "markdown",
   "metadata": {},
   "source": [
    "# Lab 6\n",
    "\n",
    "**Partners:\n",
    "Radhika Mardikar, Xinxin Mo**"
   ]
  },
  {
   "cell_type": "markdown",
   "metadata": {},
   "source": [
    "## Step 1: Open up a terminal on bioe131.com and locate the data\n",
    "\n",
    "\n",
    "The directory of data:\n",
    "\n",
    "(1) The reads from sequencing run are at: **/data/lab6/illumina_reads.fastq**\n",
    "\n",
    "(2) A bowtie2 database containing the human genome is at: **/data/hg19/hg19**\n",
    "\n",
    "(3) A bowtie2 database containing the S. oneidensis MR-1 reference genome is at: **/data/lab6/shewanella_oneidensis_mr-1**\n",
    "\n",
    "\n",
    "## Step 2: Align the reads to the human genome\n",
    "\n",
    "//\n",
    "First we got the data from the server on terminal and used the bowtie2 command line given on the lab powerpoint to first align the sequencing reads to the human genome and clean up whatever doesn't fit. For the database, we used the provided human genome sequence and the S. oneidensis sequence and aligned it to the input file which is the results of the sequencing (the reads). The final cleaned up sequence will be put into a SAM file. We are choosing not to include an unaligned.fa file, but it would include those bases that don't align with the genome.\n",
    "//\n",
    "\n",
    "First we map the readed to the human genome first to remove any contamination. For the **database**, we used the provided human genome sequence database. For the **input** sequence (the reads), we used the reads named \"illumina_reads.fastq\". We used the bowtie2 command line given on the lab powerpoint to first align the sequencing reads to the human genome and clean up whatever doesn't fit. "
   ]
  },
  {
   "cell_type": "markdown",
   "metadata": {},
   "source": [
    "When aligning to the human genome, the input we use is \"illumina_reads.fastq\". Then, we put into the terminal:\n",
    "```sh\n",
    "bowtie2 --very-fast --no-unal -x /data/hg19/hg19 \\\n",
    "-U /data/lab6/illumina_reads.fastq \\\n",
    "-S /home/be131-03/lab6/bio131test/lab6/output_human.sam \\\n",
    "--un /home/be131-03/lab6/bio131test/lab6/unaligned_human.fastq\n",
    "```\n",
    "         \n",
    "Our output was:\n",
    "\n",
    "```\n",
    "1124714 reads; of these:\n",
    "1124714 (100.00%) were unpaired; of these:\n",
    "1028379 (91.43%) aligned 0 times\n",
    "87274 (7.76%) aligned exactly 1 time\n",
    "9061 (0.81%) aligned >1 times\n",
    "8.57% overall alignment rate\n",
    "```\n",
    "\n",
    "\n",
    "- Question: What will you use for the database? Input reads?\n",
    "\n",
    "    Answer:  For the database, we used the provided human genome sequence database. For the input sequence (the reads), we used the reads named \"illumina_reads.fastq\". \n",
    "\n",
    "\n",
    "- Question: If you use the --un unaligned.fastq option, what will unaligned.fastq contain?\n",
    "\n",
    "    Answer: The final cleaned up sequence will be put into a SAM file. The sequence that cannot be aligned to human genome database would be placed to the unaligned.fastq file.\n",
    "\n",
    "\n",
    "- Question: What percentage of your sequencing library came from contaminating human DNA?\n",
    "\n",
    "    Answer: We got an 8.57% alignment rate for the human genome, we can conclude that the rest of the results (around or less than 91.43%) should align to the bacteria genome. \n",
    "\n"
   ]
  },
  {
   "cell_type": "markdown",
   "metadata": {},
   "source": [
    "## Step 3: Align the reads to the S. oneidensis reference genome\n",
    "\n",
    "In this part, we align the reads to S. oneidensis genome. We utilized two different reads as input, namely the original reads (\"illumina_reads.fastq\") and the filtered reads we obtained in the previous step (\"unaligned_human.fastq\").\n",
    "\n",
    "### Step 3.1:  Align the \"illumina_reads.fastq\" to the S. oneidensis reference genome\n",
    "\n",
    "When aligning to the bacteria genome, we first use \"illumina_reads.fastq\" as the input. First, we tried **--very-fast**, so we put the command lines into the terminal as follow:\n",
    "\n",
    "```sh\n",
    "bowtie2 --very-fast --no-unal -x /data/lab6/shewanella_oneidensis_mr-1 \\\n",
    "-U /data/lab6/illumina_reads.fastq \\\n",
    "-S /home/be131-03/lab6/bio131test/lab6/output.sam\n",
    "```\n",
    "\n",
    "Our output was: \n",
    "\n",
    "```\n",
    "1124714 reads; of these:\n",
    "1124714 (100.00%) were unpaired; of these:\n",
    "395895 (35.20%) aligned 0 times\n",
    "687571 (61.13%) aligned exactly 1 time\n",
    "41248 (3.67%) aligned >1 times\n",
    "64.80% overall alignment rate\n",
    "```\n",
    "\n",
    "At step 2, we got an 8.57% alignment rate for the human genome, we can conclude that the rest of the results (around or less than 91.43%) should align to the bacteria genome. However we see that that is not the case when we aligned to the bacteria genome. We found there was an 65.80% alignment rate. So therefore, we used **--very-sensitive** to see if that would change the results in any way. Our input into the terminal for this was:\n",
    "\n",
    "```sh\n",
    " bowtie2 --very-sensitive --no-unal -x /data/lab6/shewanella_oneidensis_mr-1 \\\n",
    " -U /data/lab6/illumina_reads.fastq \\\n",
    " -S /home/be131-03/lab6/bio131test/lab6/output_so_sensitive.sam\n",
    "```\n",
    "\n",
    "This way the results would be filtered into a new sam file.\n",
    "The output given was: \n",
    "\n",
    "```\n",
    "1124714 reads; of these:\n",
    "1124714 (100.00%) were unpaired; of these:\n",
    "394447 (35.07%) aligned 0 times\n",
    "688180 (61.19%) aligned exactly 1 time\n",
    "42087 (3.74%) aligned >1 times\n",
    "64.93% overall alignment rate\n",
    "```\n",
    " \n",
    "This means that even with the very sensitive setting, the alignment rate increased by only .13%. There is still much of the reads that is unaccounted for (26.63%).\n",
    "\n",
    "\n",
    "### Step 3.2:  Align the \"unaligned_human.fastq\" to the S. oneidensis reference genome\n",
    "\n",
    "Then we utilized the filtered data from the human database at Step 2, namely \"unaligned_human.fastq\", as the input to align the bacteria genome. We put into the terminal:\n",
    "\n",
    "```sh\n",
    "bowtie2 --very-fast --no-unal -x /data/lab6/shewanella_oneidensis_mr-1 \\\n",
    "-U /home/be131-03/lab6/bio131test/lab6/unaligned_human.fastq \\\n",
    "-S /home/be131-03/lab6/bio131test/lab6/output_so.sam \\\n",
    "--un /home/be131-03/lab6/bio131test/lab6/unaligned_so.fastq\n",
    "```\n",
    "\n",
    "Our output was: \n",
    "```\n",
    "1028379 reads; of these:\n",
    "1028379 (100.00%) were unpaired; of these:\n",
    "299560 (29.13%) aligned 0 times\n",
    "687571 (66.86%) aligned exactly 1 time\n",
    "41248 (4.01%) aligned >1 times\n",
    "70.87% overall alignment rate\n",
    "```\n",
    "\n",
    "We used **--very-sensitive** to see if that would change the results in any way.\n",
    "```sh\n",
    "bowtie2 --very-sensitive --no-unal -x /data/lab6/shewanella_oneidensis_mr-1 \\\n",
    "-U /home/be131-03/lab6/bio131test/lab6/unaligned_human.fastq \\\n",
    "-S /home/be131-03/lab6/bio131test/lab6/output_so_sensitive.sam \\\n",
    "--un /home/be131-03/lab6/bio131test/lab6/unaligned_so_sensitive.fastq\n",
    "```\n",
    "\n",
    "Our output was:\n",
    "```\n",
    "1028379 reads; of these:\n",
    "1028379 (100.00%) were unpaired; of these:\n",
    "298112 (28.99%) aligned 0 times\n",
    "688180 (66.92%) aligned exactly 1 time\n",
    "42087 (4.09%) aligned >1 times\n",
    "71.01% overall alignment rate\n",
    "```\n",
    "\n",
    "- Question: If you use the --un unaligned.fastq option, what will unaligned.fastq contain?\n",
    "\n",
    "    Answer: The unaligned.fastq will contain the sequences that cannot be aligned to neither human genome or S. oneidensis reference genome. In other words, these sequences might not belong to neither human or S. oneidensis. Thus, those sequences might belong to other species.\n",
    "    \n",
    "    \n",
    "- Question: What percentage of your filtered library didn’t align to the reference genome? If you use --verysensitive instead of --very-fast, does this percentage increase or decrease?\n",
    "\n",
    "    Answer: For the **--very-fast**, we got 70.87% alignment rate when compared the filtered library to the S. oneidensis genome. Thus, the percentage of our filtered library didn't align to the S. oneidensis genome was 29.13%.\n",
    "    If we use **--very-sensitive**, we would get 71.01%. Compared to the result got from **--very-fast**, the percentage increased 0.14%."
   ]
  },
  {
   "cell_type": "markdown",
   "metadata": {},
   "source": [
    "## Step 4: Generate a coverage plot\n",
    "\n",
    "### Step 4.1: Convert file format, sort and index BAM file\n",
    "\n",
    "We now have a \"output_so_sensitive.sam\" file containing the alignment of your filtered reads to the\n",
    "S. oneidensis reference genome. We would convert this file to BAM at this part,\n",
    "sort it, index it, and use “depth” to generate a file containing the depth of coverage for every position in the reference genome.\n",
    "\n",
    "\n",
    "We converted our .sam file containing the reads from the the very sensitive alignment with the bacterial genome to a .bam file using the command: \n",
    "\n",
    "```sh\n",
    "samtools view -b output_so_sensitive.sam > output_so_sensitive.bam\n",
    "```\n",
    "    \n",
    "sort:\n",
    "\n",
    "```sh\n",
    "samtools sort output_so_sensitive.bam > output_so_sensitive.sorted.bam\n",
    "```\n",
    "\n",
    "index:\n",
    "    \n",
    "```sh\n",
    "samtools index output_so_sensitive.sorted.bam\n",
    "```\n",
    "depth:\n",
    "    \n",
    "```sh\n",
    "samtools depth -a output_so_sensitive.sorted.bam > depth_so_sensitive.tab\n",
    "```\n"
   ]
  },
  {
   "cell_type": "markdown",
   "metadata": {},
   "source": [
    "### Step 4.2:\n",
    "\n",
    "Now that the aligned reads file has been converted to a .bam file and has been sorted, indexed and \"depth\"-ed(?), we can load it onto iPython in order to generate a scatter plot using matplotlib."
   ]
  },
  {
   "cell_type": "code",
   "execution_count": 224,
   "metadata": {},
   "outputs": [],
   "source": [
    "import matplotlib.pyplot as plt\n",
    "import numpy as np\n",
    "import math"
   ]
  },
  {
   "cell_type": "code",
   "execution_count": 225,
   "metadata": {},
   "outputs": [],
   "source": [
    "# read in the depth.tab file\n",
    "infile = open(\"lab6/depth_so_sensitive.tab\", \"r\")\n",
    "position, depth = [], []\n",
    "for line in infile.readlines():\n",
    "    line = line[:-1]\n",
    "    lineList = line.split(\"\\t\")\n",
    "    position.append(int(lineList[1]))\n",
    "    depth.append(int(lineList[2]))\n",
    "infile.close()"
   ]
  },
  {
   "cell_type": "markdown",
   "metadata": {},
   "source": [
    "- Question: What is the min, max, and mean coverage across all positions?"
   ]
  },
  {
   "cell_type": "code",
   "execution_count": 226,
   "metadata": {},
   "outputs": [
    {
     "name": "stdout",
     "output_type": "stream",
     "text": [
      "min depth: 0\n",
      "max depth: 281\n",
      "mean depth: 37\n"
     ]
    }
   ],
   "source": [
    "# print the min coverage\n",
    "print(\"min depth: {}\".format(min(depth)))\n",
    "# print the max coverage\n",
    "print(\"max depth: {}\".format(max(depth)))\n",
    "# print the mean coverage\n",
    "print(\"mean depth: {}\".format(int(sum(depth)/len(depth))))\n",
    "mean = int(sum(depth)/len(depth))"
   ]
  },
  {
   "cell_type": "markdown",
   "metadata": {},
   "source": [
    "As the result shown, the min depth is 0; max depth is 281; mean depth is 37 across all positions."
   ]
  },
  {
   "cell_type": "markdown",
   "metadata": {},
   "source": [
    "We loaded the depth file into iPython notebook and used matplotlib to generate a plot where the x-axis is position in the genome and the y-axis is depth of coverage. The code and result are as follow:"
   ]
  },
  {
   "cell_type": "code",
   "execution_count": 227,
   "metadata": {},
   "outputs": [
    {
     "data": {
      "image/png": "[encoded data removed]",
      "text/plain": [
       "<Figure size 720x576 with 1 Axes>"
      ]
     },
     "metadata": {
      "needs_background": "light"
     },
     "output_type": "display_data"
    }
   ],
   "source": [
    "# plot\n",
    "plt.rcParams['figure.figsize'] = (10.0, 8.0)\n",
    "plt.rcParams['savefig.dpi'] = 200 \n",
    "plt.plot(position, depth)\n",
    "plt.xlabel('Position in Genome')\n",
    "plt.ylabel('Depth of Coverage')\n",
    "plt.show()"
   ]
  },
  {
   "cell_type": "markdown",
   "metadata": {},
   "source": [
    "Using the same data, we generated a coverage histogram."
   ]
  },
  {
   "cell_type": "code",
   "execution_count": 228,
   "metadata": {
    "scrolled": true
   },
   "outputs": [
    {
     "data": {
      "image/png": "[encoded data removed]",
      "text/plain": [
       "<Figure size 720x576 with 1 Axes>"
      ]
     },
     "metadata": {
      "needs_background": "light"
     },
     "output_type": "display_data"
    }
   ],
   "source": [
    "# plot histogram\n",
    "n, bins, patches = plt.hist(depth, 50, facecolor='g', alpha=0.75)\n",
    "plt.xlabel('Depth of Coverage')\n",
    "plt.ylabel('Count')\n",
    "plt.show()"
   ]
  },
  {
   "cell_type": "markdown",
   "metadata": {},
   "source": [
    "## Extra Credit 1:\n",
    "\n",
    "Generate the same two plots using the SAM file you produced aligning the reads to the human reference genome. Instead of using “Position in Genome” (the plot on the left in red, above), plot the average depth (total depth / length of chromosome) for each human chromosome: chr1-22, X, and Y. What biological sex is Jamie?"
   ]
  },
  {
   "cell_type": "code",
   "execution_count": 229,
   "metadata": {},
   "outputs": [
    {
     "name": "stdout",
     "output_type": "stream",
     "text": [
      "Total depth of each chromosome\n",
      "{'chr1': 2272919, 'chr2': 2408597, 'chr3': 1967583, 'chr4': 1894437, 'chr5': 1796144, 'chr6': 1693304, 'chr7': 1567929, 'chr8': 1443026, 'chr9': 1206697, 'chr10': 1323874, 'chr11': 1325997, 'chr12': 1316961, 'chr13': 967370, 'chr14': 890866, 'chr15': 825516, 'chr16': 797118, 'chr17': 787341, 'chr18': 754875, 'chr19': 560775, 'chr20': 599238, 'chr21': 350957, 'chr22': 352372, 'chrX': 1508460, 'chrY': 244489}\n",
      "Length of each chromosome\n",
      "{'chr1': 2272970, 'chr2': 2408692, 'chr3': 1967638, 'chr4': 1894494, 'chr5': 1796203, 'chr6': 1693345, 'chr7': 1567931, 'chr8': 1443077, 'chr9': 1206747, 'chr10': 1323935, 'chr11': 1326046, 'chr12': 1316943, 'chr13': 967398, 'chr14': 890894, 'chr15': 825475, 'chr16': 797024, 'chr17': 787358, 'chr18': 754949, 'chr19': 560804, 'chr20': 599262, 'chr21': 350961, 'chr22': 352377, 'chrX': 1508504, 'chrY': 244099}\n"
     ]
    }
   ],
   "source": [
    "# read in the output_human.tab depth file\n",
    "infile = open(\"lab6/output_human.tab\", \"r\")\n",
    "position, depth1 = [], []\n",
    "totalDepth, length = {}, {}\n",
    "for line in infile.readlines():\n",
    "    line = line[:-1]\n",
    "    lineList = line.split(\"\\t\")\n",
    "    position.append(int(lineList[1]))\n",
    "    depth1.append(int(lineList[2]))\n",
    "    if len(lineList[0]) <= 5:\n",
    "        totalDepth[lineList[0]] = totalDepth.get(lineList[0], 0) + int(lineList[2])\n",
    "        length[lineList[0]] = length.get(lineList[0], 0) + 1\n",
    "infile.close()\n",
    "\n",
    "# print the total depth of each chromosome\n",
    "print(\"Total depth of each chromosome\")\n",
    "print(totalDepth)\n",
    "# print the length in the tab file of each chromosome\n",
    "print(\"Length of each chromosome\")\n",
    "print(length)"
   ]
  },
  {
   "cell_type": "markdown",
   "metadata": {},
   "source": [
    "- Question: What biological sex is Jamie?\n",
    "\n",
    "    Jamie is male, because there is chrY in the genome. However, normally the (length of chrX) : (length of chrY) = 3 : 1.  \n",
    "    Because the our lab result show that (length of chrX) : (length of chrY) = 6.18, it is possible that Jamie has the two X chromosomes and one Y chromosome in his genome."
   ]
  },
  {
   "cell_type": "code",
   "execution_count": 230,
   "metadata": {},
   "outputs": [
    {
     "data": {
      "text/plain": [
       "'\\n# read in the output_human.sam file\\ninfile = open(\"lab6/output_human.sam\", \"r\")\\nlength = {}\\nfor i in range(85):\\n    lineStr = infile.readline()\\n    ind = lineStr.find(\"LN:\")\\n    if ind >= 0:\\n        chrmLength = int(lineStr[ind+3:-1])\\n        chrm = lineStr[lineStr.find(\"SN:\")+3:ind-1]\\n        length[chrm] = chrmLength\\ninfile.close()\\n'"
      ]
     },
     "execution_count": 230,
     "metadata": {},
     "output_type": "execute_result"
    }
   ],
   "source": [
    "\"\"\"\n",
    "# read in the output_human.sam file\n",
    "infile = open(\"lab6/output_human.sam\", \"r\")\n",
    "length = {}\n",
    "for i in range(85):\n",
    "    lineStr = infile.readline()\n",
    "    ind = lineStr.find(\"LN:\")\n",
    "    if ind >= 0:\n",
    "        chrmLength = int(lineStr[ind+3:-1])\n",
    "        chrm = lineStr[lineStr.find(\"SN:\")+3:ind-1]\n",
    "        length[chrm] = chrmLength\n",
    "infile.close()\n",
    "\"\"\""
   ]
  },
  {
   "cell_type": "markdown",
   "metadata": {},
   "source": [
    "Plot the average depth (total depth / length of chromosome) for each human chromosome: chr1-22, X, and Y."
   ]
  },
  {
   "cell_type": "code",
   "execution_count": 231,
   "metadata": {},
   "outputs": [
    {
     "name": "stdout",
     "output_type": "stream",
     "text": [
      "{'chr1': 0.9999775623963361, 'chr2': 0.9999605595069855, 'chr3': 0.9999720477038968, 'chr4': 0.9999699128104919, 'chr5': 0.9999671529331595, 'chr6': 0.9999757875683928, 'chr7': 0.9999987244336644, 'chr8': 0.9999646588504979, 'chr9': 0.9999585662943434, 'chr10': 0.9999539252304682, 'chr11': 0.9999630480390574, 'chr12': 1.0000136680175225, 'chr13': 0.9999710563801042, 'chr14': 0.999968570896201, 'chr15': 1.000049668372755, 'chr16': 1.0001179387320833, 'chr17': 0.9999784088051433, 'chr18': 0.9999019801337574, 'chr19': 0.9999482885286125, 'chr20': 0.9999599507394095, 'chr21': 0.9999886027222398, 'chr22': 0.99998581065166, 'chrX': 0.9999708320296135, 'chrY': 1.001597712403574}\n"
     ]
    },
    {
     "data": {
      "image/png": "[encoded data removed]",
      "text/plain": [
       "<Figure size 864x864 with 1 Axes>"
      ]
     },
     "metadata": {
      "needs_background": "light"
     },
     "output_type": "display_data"
    }
   ],
   "source": [
    "# compute the average length of each chromosome\n",
    "aveDepth = {}\n",
    "for key in totalDepth.keys():\n",
    "    aveDepth[key] = totalDepth.get(key) / length.get(key)\n",
    "print(aveDepth)\n",
    "\n",
    "# plot the average depth for each human chromosome\n",
    "index = list(range(1, len(aveDepth)+1))\n",
    "plt.rcParams['figure.figsize'] = (12.0, 12.0)\n",
    "plt.rcParams['savefig.dpi'] = 200 \n",
    "plt.xticks(index, aveDepth.keys())\n",
    "plt.plot(index, aveDepth.values())\n",
    "plt.xlabel(\"Human Chromosome\")\n",
    "plt.ylabel(\"Average Depth\")\n",
    "plt.show()"
   ]
  },
  {
   "cell_type": "code",
   "execution_count": 235,
   "metadata": {},
   "outputs": [
    {
     "data": {
      "image/png": "[encoded data removed]",
      "text/plain": [
       "<Figure size 360x288 with 1 Axes>"
      ]
     },
     "metadata": {
      "needs_background": "light"
     },
     "output_type": "display_data"
    }
   ],
   "source": [
    "# plot histogram\n",
    "plt.rcParams['figure.figsize'] = (5.0, 4.0)\n",
    "plt.rcParams['savefig.dpi'] = 200 \n",
    "n, bins, patches = plt.hist(depth1, 50, facecolor='g', alpha=0.75)\n",
    "plt.rcParams['figure.figsize'] = (5.0, 5.0)\n",
    "plt.rcParams['savefig.dpi'] = 100\n",
    "plt.xlabel('Depth of Coverage')\n",
    "plt.ylabel('Count')\n",
    "plt.show()"
   ]
  },
  {
   "cell_type": "code",
   "execution_count": 236,
   "metadata": {},
   "outputs": [
    {
     "data": {
      "image/png": "[encoded data removed]",
      "text/plain": [
       "<Figure size 360x360 with 1 Axes>"
      ]
     },
     "metadata": {
      "needs_background": "light"
     },
     "output_type": "display_data"
    }
   ],
   "source": [
    "# plot histogram\n",
    "listAveDepth = [i for i in aveDepth.values()]\n",
    "n, bins, patches = plt.hist(listAveDepth, facecolor='g', alpha=0.75)\n",
    "plt.xlabel('Average Depth of Coverage')\n",
    "plt.ylabel('Count')\n",
    "plt.show()"
   ]
  },
  {
   "cell_type": "markdown",
   "metadata": {},
   "source": [
    "## Extra Credit 2: \n",
    "\n",
    "Try to “zoom in” on regions that seem to have higher coverage than average.\n",
    "Can you figure out what genes are in those regions? You’ll have to extract the sequence from those regions and BLAST it."
   ]
  },
  {
   "cell_type": "markdown",
   "metadata": {},
   "source": [
    "First we will compute the average depth of all the chromosomes and then compare the individual chromosome depths to the average. If the individual chromosome depth is greater than average then we will append that into a list (called greaterthanavg). "
   ]
  },
  {
   "cell_type": "code",
   "execution_count": 237,
   "metadata": {},
   "outputs": [
    {
     "name": "stdout",
     "output_type": "stream",
     "text": [
      "average depth of all chromosomes is 0.9999902623705493\n",
      "Here we get the ceiling of the total average, so the average is 1\n"
     ]
    }
   ],
   "source": [
    "# compute the average depth of all chromosomes\n",
    "sumDepth, sumLength = 0, 0\n",
    "for key in totalDepth.keys():\n",
    "    sumDepth += totalDepth.get(key)\n",
    "    sumLength += length.get(key)\n",
    "totalAve = sumDepth / sumLength\n",
    "# print the total average\n",
    "print(\"average depth of all chromosomes is {}\".format(totalAve))\n",
    "print(\"Here we get the ceiling of the total average, so the average is {}\".format(math.ceil(totalAve)))"
   ]
  },
  {
   "cell_type": "code",
   "execution_count": 238,
   "metadata": {},
   "outputs": [
    {
     "name": "stdout",
     "output_type": "stream",
     "text": [
      "[84306892, 45285619, 30510261, 34688969, 33097974, 18485047, 27170225]\n"
     ]
    }
   ],
   "source": [
    "# create a list to store the position greater than average depth\n",
    "greaterthanavg = []\n",
    "\n",
    "# get the position of gene which has a depth greater than average depth\n",
    "for i in range(len(depth1)):\n",
    "    if depth1[i] > math.ceil(totalAve):\n",
    "        greaterthanavg.append(position[i])\n",
    "\n",
    "# create the start and end lists to store the start and end position of each gene at the greaterthanavg list\n",
    "start, end = [0], []\n",
    "for i in range(1, len(greaterthanavg)):\n",
    "    if abs(greaterthanavg[i] - greaterthanavg[i-1]) > 1:\n",
    "        start.append(i)\n",
    "        end.append(i-1)\n",
    "end.append(len(greaterthanavg)-1)\n",
    "\n",
    "# create a list to store the start position of each gene\n",
    "greaterThanAvgPos = []\n",
    "for i in range(len(start)):\n",
    "    greaterThanAvgPos.append(greaterthanavg[start[i]])\n",
    "print(greaterThanAvgPos)"
   ]
  },
  {
   "cell_type": "markdown",
   "metadata": {},
   "source": [
    "Once we have sorted by average depth, we extract the positions of the genes of interest. Then we will read into the human genome file to store the information of the genes of interest."
   ]
  },
  {
   "cell_type": "code",
   "execution_count": 239,
   "metadata": {},
   "outputs": [
    {
     "name": "stdout",
     "output_type": "stream",
     "text": [
      "read77943\t16\tchrY\t18485047\t1\t300M\t*\t0\t0\tTTGTAAACTCTTACAATGAACTCATAAAGTTAGAACAAAGTTAAAAATAATTGCTATCTAAGTATCAGAGTTAGAATAAATTATTCCCAAGGTTTCCCCTCACTTTAAGTTTCCCTGATTCTTGTATTTTTTACTTAAATTGGATATACAATTACTATTTTTTCATTATTTAATTCATAATACATTTGGTAAAATAATTTCTTTTTAAGTAAAACATTTAATAGTGCAGTTTGGTTCGTGTTAATTATACTTCAACGAACCCCTTATGTTACTTGCCTAGTGACAGAGTATGTGGGTAAA\tBGFGFB5=>@GFFFG'GFFGEAFFGCF4=>FFFG1D@<BD7@4E?F0DCGEGFFGGC7>:>CDG-GFGGAGGGGGEGGFB=FEGFFGFGCGEEFGEGFFGG?FFBCGAGGGEEGGGAGGDGDG@?GD/EGFGF-<:FDFGG46G9GFFAFFGFGGGFGGCGE&FGFGFGGGEGG>DFG(EEGGGFEGG:DFGGGFGGGFG:GGGGGFGFBEGAFCCFFGGFEGGGGGGGGGG7AEFEGFFGCGGG;GGGGDFFFEG:GGEEFFGGEGGGGDGEC<FGAGCGG6GFGBD4EGGGGCGGGFG\tAS:i:-5\tXS:i:-5\tXN:i:0\tXM:i:1\tXO:i:0\tXG:i:0\tNM:i:1\tMD:Z:154T145\tYT:Z:UU\n",
      "\n",
      "read334190\t16\tchr15\t30510261\t1\t300M\t*\t0\t0\tTGCCTTTTTGTAACTTAATCTCAGAAGTGACATCTGCTGTGTTCTGTATGTTAGAAGTGAGTCACTAAGTCCAGCTGAAACTCAGGGGAGGGCTTGCCTACCAGGAGGCAGGAATCACCAGGACCCATCAGAGACACCGTCTACCCCAGTCTGTGCTCGGGTCCTTCATGTCTCTCCCTCCTGAAATTTGATAGATTCTGCAAAAGAAAAAGCCTTGATCCACGCTGCTTTCTAGAATGTTGTAGTGAAAAGCAAGTCAGTGTGGTACATTCAGAGTAATTTTATAATTTTATAATTTAA\t86FG9FDGGF@GFBCAECFFEC61E=GGCED&)GGGGGDC:DE=4EG=GGGG>@9FGGDEG6FEGGFD@A;FDCCGEEFFGFGGAGGGGF.FCEBE5FFFBB>=GGFGD>G2GBE:8FF4GGGAGGE/6GGGGGE4/C'GGGG?DFBFGD5G4EGGFGEGFGGFGBCGGFGGCFGFFFDGFEGFGGDG@FG1GD;GFEGA:C+EGFFGGG?CGGGGFGGGG=FFGGGCGBCF,G@45<8BFFG<GGFG?@GDGFDGGDFGGGFGG2GDEGGFFGGGF8GFGGGGGE;GBGFFGGGGGGGG\tAS:i:0\tXS:i:0\tXN:i:0\tXM:i:0\tXO:i:0\tXG:i:0\tNM:i:0\tMD:Z:300\tYT:Z:UU\n",
      "\n",
      "read507912\t16\tchrY\t27170225\t1\t300M\t*\t0\t0\tATGTCCTGTTTTTACGTGTGACAGTTGGCTGCAACCATGTGGGATGATGACAGTTATTTCTGTCAGCTGGGTTTGCATACAGGACTCACAATTTCACCTGTGTGCTGAGTGCTACATTGGTTCTGCTTGTATAACCCAAAGACTCTATAAAAGTATGTGTCAATGTTGTAATCTTTTGTGATGTTTGTACAAGAATGTGATCCATGATATCACACATGTCCCTACACCTAGTTATAAGAGCCTAAATATTCTCTATTTGCTGAGTTCACATCTAAGAGTCGTTATCATTCCTGCGAGCCT\tF@FB73FF0F6DB;F9GG<D:EDEG>09@-F5F<FA@BD:EDAFFFA9GGD<FGD*E>DF7FC,EGGGGD4GFFFGGF=AGGGFGGGFFFGFGF@3DBFGGGF;FFFFGFGFGGFG+0B8FGGFC5?BEGGGGGG?GCG>DFGFEFEGGGD7GBGFBFGCGDD08GGGEGFFBCGGGGGFBDCGGDFGFDGGGGGGFGGGGGGCFF/GGGGGGFGGFGGCAGGGEF=CDGEFGGGDCFGGCGGDFFEFFGGGFBGCDFGGGGG+3GCG>D*GGGF>GGGG>GGGCEFDE?CFGGGGGGFG\tAS:i:0\tXS:i:0\tXN:i:0\tXM:i:0\tXO:i:0\tXG:i:0\tNM:i:0\tMD:Z:300\tYT:Z:UU\n",
      "\n",
      "read515325\t0\tchr12\t45285619\t42\t300M\t*\t0\t0\tAATTGGGTAGAATATGGTTCCATCCCCTGCCTTGAGAGGATCTCAGAACAATATGTTTTGCTAATTATGCAAATATATTTATCAACTGTATGAGTAAAGTAGCCTATAATTTAAAGACTGAGGACTTGTTTTCAAACACATCACAGTAATGAAATGAGCCTATTCCAACAGTATATTCATGGTGCTATGGTTTCCTTTCTAAGCATGGTGATTGTTTCACACTGGGCAAGACATCTGGTGAAGTTGAGAGGCTGTCACCCAGCTGAGAGAATATGTGCATGGTTGGGAGTAGAATTTCCT\tCCCCCGGGGGGGGGGGGFGGGGGGGGGGGGGGGGGGGGGGGGGGGGGGGGGGGGGGGGGGGGFGGGGGGGGGGGGGGFGFFGGGGFGFGGGGGGFGGAGGGEGEGGGGGGGGGGGGGGGGGGFGGGGGGGGGGGGGGGGGGGGFFBEFGGEFFFFAECEAFFEEA@:C@D9C@9@C@EEFFEG9>FC;=EB=DEFFFGGF7C,8,8EEEC777@DFCA:8@666B,6@D6@6D@E9@=EE@E,@;,@5@,+;A7C?CG<F>7C?5?*+33;F8CDF99:EDCDCE59;0?4=8===FFFC\tAS:i:-3\tXN:i:0\tXM:i:1\tXO:i:0\tXG:i:0\tNM:i:1\tMD:Z:204C95\tYT:Z:UU\n",
      "\n",
      "read781959\t16\tchr16\t33097974\t1\t300M\t*\t0\t0\tAGGTCAAACGAAACACCTAACATTGCTAGGGCAGCCTCCCACAACAAAGAATCCTCTGGTCCTAAAGGTAAGTAGCACCAAGATTGAGAAACCATAATCTAGACAGGAAACACTACGTAGCTATTCCAAGTGCGCAGGAAAGCACATCAGTGCCCTCGAGGGGAAAAGTGTAAACATTTTAATTGCTGTACATGGTGACACAAATCCATGTTGTTAATCTAAGTGGAAGGGGCTGAAGCACAAAACATAATTCAAAGAGTTTACTTGAGCCACAATGAGGACAGCTGCCTGGAAGAAACA\t0@GEE)DGF.AEFFD57FD%EG=GGF@==DFGGG5AF??FA0GGEGFDD<BCGEE<59FGGGGGGGF-GFBGB<GAGGGEGBGF?DGGGCGADEFCFEGDFGGG3G;(FFFFFCCCBGGGF:EGEFECE@EFDD>FGGGF5GGGFBGGGFEEGG7GEF;FGGFGG4GGG4EDGGGGC<FFFGGGGGGEECD@7GGDGGGGFEG<GFGG<EGECAGG;GGFEGFD8-GG@FGGEG>GGB>CCGGGE<CFEGACDGFGGBGGG6:GEGEGGFFFDGGGE@GGGFGGG4@@FF.EGGGGAE>&\tAS:i:-5\tXS:i:-5\tXN:i:0\tXM:i:1\tXO:i:0\tXG:i:0\tNM:i:1\tMD:Z:141A158\tYT:Z:UU\n",
      "\n",
      "read854980\t0\tchr7\t84306892\t42\t300M\t*\t0\t0\tTTGTGCTTTGGCAACATTTGTTGTTGTTTGTGAATCACAGCTATGTTCAGTGGTATGTGACTTGCCTCTCGGCACCCAGGAGGCATCAGCAAAAACACCTGTGGCCCAATAAACCACAATTTTTGGGTCCAGTAAATTGGTCAATACACAGCCCACACCAAAATATCACTGAATTTGGCTTTGTATATTTGGTCATTTGATAACCATTCTGCAAAACTGACCCAATTTTTACTGGTTAAAGAACAATATTGCAGGAAAGTAGAGGCAGACAGCTTTTTAAGTCCTTTAAAATGATACAAC\tGGGEFGGGGGGGC7GGDFFGGFFGDEFFF?GGGEGG>GBGFFGBEGEDGG6GFFGGGGGGCGG>FGCGFGBEGG=BG@GEGFFGFGGF?@CGGGGGGEGGGGGGEFFFEG?'GGFGGEFFFFFFFFGC;FGDGEGFEF?DFGGGGFGGGGG17GGGGDGGGGG6GEGGGGGDGGGGGEG8GEG<GGFDFGGGG7EAFG@DGFEGGF6GDFFFEEGB<D6GE@GA9GGFGAE?G>EF@DGG:4$C>:GGG>F=/?GGFGFG*A97GGGGEBGGGC@FG;9%FDFCBG;24@EF45GF/=+.\tAS:i:0\tXN:i:0\tXM:i:0\tXO:i:0\tXG:i:0\tNM:i:0\tMD:Z:300\tYT:Z:UU\n",
      "\n",
      "read1019002\t0\tchr15\t34688969\t1\t300M\t*\t0\t0\tTATTTTAGACCTCATTCTGATCTCCCTCTCCCCGCCAACCCCACCAACTTCTGCCCTGTCATTTATCCTCATATCTCTCTGTGTAACATATTGACTTACTTTTTGGAGATAATGGTCTAACCAATTAATCCTTTCTTCTGGTGTCTAATCCATCCACTCGGTTTCTTATTTCAACAATTCCATTTTATATTTCCTTATTTCATTTTATTCTGAGACAGAGTCTCACTCTGTCACCCAGGCTGGACTGTAGTGGCACGAACCTGCAGCCCTGGCCTCCTGGGCTCAAGTGATCCTCCCACC\tCFEGFGFGGAFF?CGGEFB4D3CGGGGGCF;GCBFFGG984EEFGEFGGGGGGGCFF>G1&BFG?0G,4G2@@GFFFGFGGEDGFGEGGG:'BEGGGG/GGGF;CFDGGE=GGFGGFGE==GGGGGGGGG:2GGGGFGFGGGGGG6GGGCEG??GFB/A9FGGGGEGFGFDFG51DGEG5GGGFGFGGFDFE(GGBFGGCGFEE(3G<CGACBA;-DE>;FEGGGGE::GFEDFDFFG>F@CGC:@DE@:FEGGEDE5EGGFFGG6(GEFDDFCD?FAFG;FBCG891>?EEE:DF)6GG\tAS:i:-2\tXS:i:-2\tXN:i:0\tXM:i:1\tXO:i:0\tXG:i:0\tNM:i:1\tMD:Z:91G208\tYT:Z:UU\n",
      "\n"
     ]
    }
   ],
   "source": [
    "# read in the output_human.sam file\n",
    "infile = open(\"lab6/output_human.sam\", \"r\")\n",
    "\n",
    "# create a result list to store the corresponding information of the target gene\n",
    "res = []\n",
    "for line in infile.readlines():\n",
    "    for i in greaterThanAvgPos:\n",
    "        if str(i) in line:\n",
    "            print(line)\n",
    "            res.append(line)"
   ]
  },
  {
   "cell_type": "markdown",
   "metadata": {},
   "source": [
    "The sequences above are regions that have higher coverage than average. We BLAST them now."
   ]
  },
  {
   "cell_type": "markdown",
   "metadata": {},
   "source": [
    "```\n",
    "read77943\t16\tchrY\t18485047\t1\t300M\t*\t0\t0\tTTGTAAACTCTTACAATGAACTCATAAAGTTAGAACAAAGTTAAAAATAATTGCTATCTAAGTATCAGAGTTAGAATAAATTATTCCCAAGGTTTCCCCTCACTTTAAGTTTCCCTGATTCTTGTATTTTTTACTTAAATTGGATATACAATTACTATTTTTTCATTATTTAATTCATAATACATTTGGTAAAATAATTTCTTTTTAAGTAAAACATTTAATAGTGCAGTTTGGTTCGTGTTAATTATACTTCAACGAACCCCTTATGTTACTTGCCTAGTGACAGAGTATGTGGGTAAA\n",
    "```\n",
    "BLAST result:\n",
    "\n",
    "Select seq AC011749.2\tHomo sapiens BAC clone RP11-455E3 from Y, complete sequence\n",
    "\n",
    "---\n",
    "\n",
    "```\n",
    "read334190\t16\tchr15\t30510261\t1\t300M\t*\t0\t0\tTGCCTTTTTGTAACTTAATCTCAGAAGTGACATCTGCTGTGTTCTGTATGTTAGAAGTGAGTCACTAAGTCCAGCTGAAACTCAGGGGAGGGCTTGCCTACCAGGAGGCAGGAATCACCAGGACCCATCAGAGACACCGTCTACCCCAGTCTGTGCTCGGGTCCTTCATGTCTCTCCCTCCTGAAATTTGATAGATTCTGCAAAAGAAAAAGCCTTGATCCACGCTGCTTTCTAGAATGTTGTAGTGAAAAGCAAGTCAGTGTGGTACATTCAGAGTAATTTTATAATTTTATAATTTAA\t86FG9FDGGF@GFBCAECFFEC61E=GGCED&)GGGGGDC:DE=4EG=GGGG>@9FGGDEG6FEGGFD@A;FDCCGEEFFGFGGAGGGGF.FCEBE5FFFBB>=GGFGD>G2GBE:8FF4GGGAGGE/6GGGGGE4/C'GGGG?DFBFGD5G4EGGFGEGFGGFGBCGGFGGCFGFFFDGFEGFGGDG@FG1GD;GFEGA:C+EGFFGGG?CGGGGFGGGG=FFGGGCGBCF,G@45<8BFFG<GGFG?@GDGFDGGDFGGGFGG2GDEGGFFGGGF8GFGGGGGE;GBGFFGGGGGGGG\tAS:i:0\tXS:i:0\tXN:i:0\tXM:i:0\tXO:i:0\tXG:i:0\tNM:i:0\tMD:Z:300\tYT:Z:UU\n",
    "```\n",
    "BLAST result:\n",
    "\n",
    "Homo sapiens BAC clone CH17-311D18 from chromosome 15, complete sequence\n",
    "\n",
    "---\n",
    "\n",
    "```\n",
    "read507912\t16\tchrY\t27170225\t1\t300M\t*\t0\t0\tATGTCCTGTTTTTACGTGTGACAGTTGGCTGCAACCATGTGGGATGATGACAGTTATTTCTGTCAGCTGGGTTTGCATACAGGACTCACAATTTCACCTGTGTGCTGAGTGCTACATTGGTTCTGCTTGTATAACCCAAAGACTCTATAAAAGTATGTGTCAATGTTGTAATCTTTTGTGATGTTTGTACAAGAATGTGATCCATGATATCACACATGTCCCTACACCTAGTTATAAGAGCCTAAATATTCTCTATTTGCTGAGTTCACATCTAAGAGTCGTTATCATTCCTGCGAGCCT\tF@FB73FF0F6DB;F9GG<D:EDEG>09@-F5F<FA@BD:EDAFFFA9GGD<FGD*E>DF7FC,EGGGGD4GFFFGGF=AGGGFGGGFFFGFGF@3DBFGGGF;FFFFGFGFGGFG+0B8FGGFC5?BEGGGGGG?GCG>DFGFEFEGGGD7GBGFBFGCGDD08GGGEGFFBCGGGGGFBDCGGDFGFDGGGGGGFGGGGGGCFF/GGGGGGFGGFGGCAGGGEF=CDGEFGGGDCFGGCGGDFFEFFGGGFBGCDFGGGGG+3GCG>D*GGGF>GGGG>GGGCEFDE?CFGGGGGGFG\tAS:i:0\tXS:i:0\tXN:i:0\tXM:i:0\tXO:i:0\tXG:i:0\tNM:i:0\tMD:Z:300\tYT:Z:UU\n",
    "```\n",
    "\n",
    "BLAST result:\n",
    "\n",
    "Homo sapiens chromosome Y palindromes P1, P2, P3 and inverted repeat IR2 (P1-P2-P3-IR2@) on chromosome Y\n",
    "\n",
    "---\n",
    "\n",
    "```\n",
    "read515325\t0\tchr12\t45285619\t42\t300M\t*\t0\t0\tAATTGGGTAGAATATGGTTCCATCCCCTGCCTTGAGAGGATCTCAGAACAATATGTTTTGCTAATTATGCAAATATATTTATCAACTGTATGAGTAAAGTAGCCTATAATTTAAAGACTGAGGACTTGTTTTCAAACACATCACAGTAATGAAATGAGCCTATTCCAACAGTATATTCATGGTGCTATGGTTTCCTTTCTAAGCATGGTGATTGTTTCACACTGGGCAAGACATCTGGTGAAGTTGAGAGGCTGTCACCCAGCTGAGAGAATATGTGCATGGTTGGGAGTAGAATTTCCT\tCCCCCGGGGGGGGGGGGFGGGGGGGGGGGGGGGGGGGGGGGGGGGGGGGGGGGGGGGGGGGGFGGGGGGGGGGGGGGFGFFGGGGFGFGGGGGGFGGAGGGEGEGGGGGGGGGGGGGGGGGGFGGGGGGGGGGGGGGGGGGGGFFBEFGGEFFFFAECEAFFEEA@:C@D9C@9@C@EEFFEG9>FC;=EB=DEFFFGGF7C,8,8EEEC777@DFCA:8@666B,6@D6@6D@E9@=EE@E,@;,@5@,+;A7C?CG<F>7C?5?*+33;F8CDF99:EDCDCE59;0?4=8===FFFC\tAS:i:-3\tXN:i:0\tXM:i:1\tXO:i:0\tXG:i:0\tNM:i:1\tMD:Z:204C95\tYT:Z:UU\n",
    "```\n",
    "BLAST result:\n",
    "\n",
    "Homo sapiens 12 BAC RP11-453L7 (Roswell Park Cancer Institute Human BAC Library) complete sequence\n",
    "\n",
    "---\n",
    "\n",
    "```\n",
    "read781959\t16\tchr16\t33097974\t1\t300M\t*\t0\t0\tAGGTCAAACGAAACACCTAACATTGCTAGGGCAGCCTCCCACAACAAAGAATCCTCTGGTCCTAAAGGTAAGTAGCACCAAGATTGAGAAACCATAATCTAGACAGGAAACACTACGTAGCTATTCCAAGTGCGCAGGAAAGCACATCAGTGCCCTCGAGGGGAAAAGTGTAAACATTTTAATTGCTGTACATGGTGACACAAATCCATGTTGTTAATCTAAGTGGAAGGGGCTGAAGCACAAAACATAATTCAAAGAGTTTACTTGAGCCACAATGAGGACAGCTGCCTGGAAGAAACA\t0@GEE)DGF.AEFFD57FD%EG=GGF@==DFGGG5AF??FA0GGEGFDD<BCGEE<59FGGGGGGGF-GFBGB<GAGGGEGBGF?DGGGCGADEFCFEGDFGGG3G;(FFFFFCCCBGGGF:EGEFECE@EFDD>FGGGF5GGGFBGGGFEEGG7GEF;FGGFGG4GGG4EDGGGGC<FFFGGGGGGEECD@7GGDGGGGFEG<GFGG<EGECAGG;GGFEGFD8-GG@FGGEG>GGB>CCGGGE<CFEGACDGFGGBGGG6:GEGEGGFFFDGGGE@GGGFGGG4@@FF.EGGGGAE>&\tAS:i:-5\tXS:i:-5\tXN:i:0\tXM:i:1\tXO:i:0\tXG:i:0\tNM:i:1\tMD:Z:141A158\tYT:Z:UU\n",
    "```\n",
    "\n",
    "BLAST result:\n",
    "\n",
    "Homo sapiens chromosome 16 clone RP11-19N8, complete sequence\n",
    "\n",
    "---\n",
    "\n",
    "```\n",
    "read854980\t0\tchr7\t84306892\t42\t300M\t*\t0\t0\tTTGTGCTTTGGCAACATTTGTTGTTGTTTGTGAATCACAGCTATGTTCAGTGGTATGTGACTTGCCTCTCGGCACCCAGGAGGCATCAGCAAAAACACCTGTGGCCCAATAAACCACAATTTTTGGGTCCAGTAAATTGGTCAATACACAGCCCACACCAAAATATCACTGAATTTGGCTTTGTATATTTGGTCATTTGATAACCATTCTGCAAAACTGACCCAATTTTTACTGGTTAAAGAACAATATTGCAGGAAAGTAGAGGCAGACAGCTTTTTAAGTCCTTTAAAATGATACAAC\tGGGEFGGGGGGGC7GGDFFGGFFGDEFFF?GGGEGG>GBGFFGBEGEDGG6GFFGGGGGGCGG>FGCGFGBEGG=BG@GEGFFGFGGF?@CGGGGGGEGGGGGGEFFFEG?'GGFGGEFFFFFFFFGC;FGDGEGFEF?DFGGGGFGGGGG17GGGGDGGGGG6GEGGGGGDGGGGGEG8GEG<GGFDFGGGG7EAFG@DGFEGGF6GDFFFEEGB<D6GE@GA9GGFGAE?G>EF@DGG:4$C>:GGG>F=/?GGFGFG*A97GGGGEBGGGC@FG;9%FDFCBG;24@EF45GF/=+.\tAS:i:0\tXN:i:0\tXM:i:0\tXO:i:0\tXG:i:0\tNM:i:0\tMD:Z:300\tYT:Z:UU\n",
    "```\n",
    "\n",
    "BLAST result:\n",
    "\n",
    "Homo sapiens BAC clone RP11-750F10 from 7, complete sequence\n",
    "\n",
    "---\n",
    "\n",
    "```\n",
    "read1019002\t0\tchr15\t34688969\t1\t300M\t*\t0\t0\tTATTTTAGACCTCATTCTGATCTCCCTCTCCCCGCCAACCCCACCAACTTCTGCCCTGTCATTTATCCTCATATCTCTCTGTGTAACATATTGACTTACTTTTTGGAGATAATGGTCTAACCAATTAATCCTTTCTTCTGGTGTCTAATCCATCCACTCGGTTTCTTATTTCAACAATTCCATTTTATATTTCCTTATTTCATTTTATTCTGAGACAGAGTCTCACTCTGTCACCCAGGCTGGACTGTAGTGGCACGAACCTGCAGCCCTGGCCTCCTGGGCTCAAGTGATCCTCCCACC\tCFEGFGFGGAFF?CGGEFB4D3CGGGGGCF;GCBFFGG984EEFGEFGGGGGGGCFF>G1&BFG?0G,4G2@@GFFFGFGGEDGFGEGGG:'BEGGGG/GGGF;CFDGGE=GGFGGFGE==GGGGGGGGG:2GGGGFGFGGGGGG6GGGCEG??GFB/A9FGGGGEGFGFDFG51DGEG5GGGFGFGGFDFE(GGBFGGCGFEE(3G<CGACBA;-DE>;FEGGGGE::GFEDFDFFG>F@CGC:@DE@:FEGGEDE5EGGFFGG6(GEFDDFCD?FAFG;FBCG891>?EEE:DF)6GG\tAS:i:-2\tXS:i:-2\tXN:i:0\tXM:i:1\tXO:i:0\tXG:i:0\tNM:i:1\tMD:Z:91G208\tYT:Z:UU\n",
    "\n",
    "```\n",
    "\n",
    "BLAST result:\n",
    "\n",
    "Select seq AC277885.1\tHomo sapiens chromosome 15 clone CH17-113G17, complete sequence\n",
    "\n",
    "---"
   ]
  },
  {
   "cell_type": "code",
   "execution_count": null,
   "metadata": {},
   "outputs": [],
   "source": []
  }
 ],
 "metadata": {
  "kernelspec": {
   "display_name": "Python 3",
   "language": "python",
   "name": "python3"
  },
  "language_info": {
   "codemirror_mode": {
    "name": "ipython",
    "version": 3
   },
   "file_extension": ".py",
   "mimetype": "text/x-python",
   "name": "python",
   "nbconvert_exporter": "python",
   "pygments_lexer": "ipython3",
   "version": "3.6.6"
  }
 },
 "nbformat": 4,
 "nbformat_minor": 2
}

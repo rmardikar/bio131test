{
 "cells": [
  {
   "cell_type": "markdown",
   "metadata": {},
   "source": [
    "# Radhika Mardikar, Xinxin Mo"
   ]
  },
  {
   "cell_type": "markdown",
   "metadata": {},
   "source": [
    "# Step 1:\n",
    "The first step is to open the file and create a dictionary with keys of the different words in the file and value equal to the count of that specific word in the files."
   ]
  },
  {
   "cell_type": "code",
   "execution_count": 4,
   "metadata": {},
   "outputs": [],
   "source": [
    "file = open('romeoandjuliet.txt', 'r')\n",
    "worddictionary = {}\n",
    "for word in file.read().split():\n",
    "    if word[-1] == '.' or word[-1] ==',' or word[-1] == '!' or word[-1] == '?':\n",
    "        word = word[:-1]\n",
    "    if word not in worddictionary:\n",
    "        worddictionary[word] = 1\n",
    "    else:\n",
    "        worddictionary[word] += 1"
   ]
  },
  {
   "cell_type": "markdown",
   "metadata": {},
   "source": [
    "# Step 2:\n",
    "Once the dictionary is created, we create a bar graph using the data in it. We set the x axis as the words in the dictionary and y as the values(count) of those corresponding words. The bar graph takes a long time to plot, so we used a scatter plot instead and changed the x axis to number of the word instead of the actual string representation. This is the code to get it to work."
   ]
  },
  {
   "cell_type": "code",
   "execution_count": 3,
   "metadata": {},
   "outputs": [
    {
     "data": {
      "image/png": "[encoded data removed]",
      "text/plain": [
       "<Figure size 432x288 with 1 Axes>"
      ]
     },
     "metadata": {},
     "output_type": "display_data"
    }
   ],
   "source": [
    "import matplotlib.pyplot as plt\n",
    "x = range(len(worddictionary.keys()))\n",
    "y = worddictionary.values()\n",
    "plt.scatter(x, y, 1)\n",
    "plt.xlabel = \"words\"\n",
    "plt.ylabel = \"count\"\n",
    "plt.title = \"Words in Romeo and Juliet\""
   ]
  },
  {
   "cell_type": "markdown",
   "metadata": {},
   "source": [
    "# Bonus:\n",
    "To sort the dictionary by word count in reverse order, we use the sorted function built into Python. Then we removed the first ten elements which are the counts and used those to find the corresponding words in the dictionary and print them out in a list. Next, \n"
   ]
  },
  {
   "cell_type": "code",
   "execution_count": 25,
   "metadata": {},
   "outputs": [
    {
     "name": "stdout",
     "output_type": "stream",
     "text": [
      "The ten most popular words are  ['the', 'I', 'and', 'to', 'a', 'of', 'my', 'is', 'in', 'that']\n"
     ]
    },
    {
     "data": {
      "text/plain": [
       "<matplotlib.collections.PathCollection at 0x106e4edd8>"
      ]
     },
     "execution_count": 25,
     "metadata": {},
     "output_type": "execute_result"
    },
    {
     "data": {
      "image/png": "[encoded data removed]",
      "text/plain": [
       "<Figure size 432x288 with 1 Axes>"
      ]
     },
     "metadata": {},
     "output_type": "display_data"
    }
   ],
   "source": [
    "import math\n",
    "sort = sorted(worddictionary.values(), reverse = True)\n",
    "sortcomp = sort[:10]\n",
    "popwords = []\n",
    "for num in sortcomp:\n",
    "    for i in worddictionary.keys():\n",
    "        if num == worddictionary[i]:\n",
    "            popwords.append(i)\n",
    "print(\"The ten most popular words are \", popwords)\n",
    "logplot = {}\n",
    "for i in range(len(worddictionary.keys())):\n",
    "    logplot[i] = math.log10(sort[i])\n",
    "x = range(len(logplot.keys()))\n",
    "y = logplot.values()\n",
    "plt.title = \"Sorted by count\"\n",
    "plt.scatter(x, y, 1)\n"
   ]
  },
  {
   "cell_type": "code",
   "execution_count": null,
   "metadata": {},
   "outputs": [],
   "source": []
  }
 ],
 "metadata": {
  "kernelspec": {
   "display_name": "Python 3",
   "language": "python",
   "name": "python3"
  },
  "language_info": {
   "codemirror_mode": {
    "name": "ipython",
    "version": 3
   },
   "file_extension": ".py",
   "mimetype": "text/x-python",
   "name": "python",
   "nbconvert_exporter": "python",
   "pygments_lexer": "ipython3",
   "version": "3.6.5"
  }
 },
 "nbformat": 4,
 "nbformat_minor": 2
}

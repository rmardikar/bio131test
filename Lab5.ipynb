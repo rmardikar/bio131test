{
 "cells": [
  {
   "cell_type": "markdown",
   "metadata": {},
   "source": [
    "# Step 1:\n",
    "Here we take the sequences used in the experiment and create a table using that data.\n",
    "YES-1 riboswitch from Figure 2a\n",
    "NOT-1 riboswitch in Figure 4a\n",
    "AND-1 riboswitch in Figure 5a\n",
    "OR-1 riboswitch in Figure 6a"
   ]
  },
  {
   "cell_type": "code",
   "execution_count": null,
   "metadata": {},
   "outputs": [],
   "source": [
    "import subprocess\n",
    "import sqlite3\n",
    "conn = sqlite3.connect('riboswitch.db')\n",
    "c = conn.cursor\n",
    "c.execute('CREATE TABLE pathway (name TEXT, description TEXT);')\n",
    "c.commit()"
   ]
  }
 ],
 "metadata": {
  "kernelspec": {
   "display_name": "Python 3",
   "language": "python",
   "name": "python3"
  },
  "language_info": {
   "codemirror_mode": {
    "name": "ipython",
    "version": 3
   },
   "file_extension": ".py",
   "mimetype": "text/x-python",
   "name": "python",
   "nbconvert_exporter": "python",
   "pygments_lexer": "ipython3",
   "version": "3.6.5"
  }
 },
 "nbformat": 4,
 "nbformat_minor": 2
}

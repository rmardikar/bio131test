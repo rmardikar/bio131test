{
 "cells": [
  {
   "cell_type": "markdown",
   "metadata": {},
   "source": [
    "# Step 1:\n",
    "Here we take the sequences used in the experiment and create a table using that data.\n",
    "\n",
    "YES-1 riboswitch from Figure 2a\n",
    "\n",
    "NOT-1 riboswitch in Figure 4a\n",
    "\n",
    "AND-1 riboswitch in Figure 5a\n",
    "\n",
    "OR-1 riboswitch in Figure 6a\n",
    "\n",
    "# Step 2:\n",
    "Typing in RNAfold into the terminal using the sequence of YES-1 as seen below in seqyes1, gives the following output:(((((((((((((((((((((..(((.......))).)))))))).))))).....(((((....))))).))))))))\n"
   ]
  },
  {
   "cell_type": "code",
   "execution_count": 38,
   "metadata": {},
   "outputs": [],
   "source": [
    "import sqlite3\n",
    "import subprocess"
   ]
  },
  {
   "cell_type": "code",
   "execution_count": 39,
   "metadata": {},
   "outputs": [],
   "source": [
    "conn = sqlite3.connect('riboswitch.db')\n",
    "c = conn.cursor()\n",
    "#c.execute('CREATE TABLE riboswitches (riboswitch TEXT, OBS1 TEXT, OBS2 TEXT, red_region TEXT);')\n",
    "c.executemany('INSERT INTO riboswitches(riboswitch, OBS1, OBS2, red_region) VALUES(?, ?, ?, ?)',\n",
    "         [('YES-1', '26-47', '', '16-21, 49-54'),\n",
    "          ('NOT-1', '45-66', '', '40-44, 74-78'),\n",
    "          ('AND-1', '30-45', '49-65', '16-23, 70-77'),\n",
    "         ('OR-1', '27-46', '47-66', '16-26, 67-77')])  \n",
    "conn.commit()\n",
    "seqyes1 = 'GGGCGACCCUGAUGAGCUUGGUUUAGCUCGUCACUGUCCAGGUUCAAUCAGGCGAAACGGUGAAAGCCGUAGGUUGCCC'\n",
    "seqnot1 = 'GGCAGGUACAUACAGCUGAUGAGUCCCAAAUAGGACGAAACGCGACACACACCACUAAACCGUGCAGUGUUUUUGCGUCCUGUAUUCCACUGC'\n",
    "seqand1 = 'GGGCGACCCUGAUGAGCUUGGUUUAGUAUUUACAGCUCCAUACAUGAGGUGUUAUCCCUAUGCAAGUUCGAUCAGGCGAAACGGUGAAAGCCGUAGGUUGCCCAGAGACAAU'\n",
    "seqor1 = 'GGGCGACCCUGAUGAGCUUGGUUGAGUAUUUACAGCUGCAUACAUGAGGUGUUCUCCCUACGCAAGUUCGAUCAGGCGAAACGGUGAAAGCCGUAGGUUGCCC'"
   ]
  },
  {
   "cell_type": "markdown",
   "metadata": {},
   "source": [
    "# Step 3: \n",
    "Now, we'll create a routine to model RNA folding.\n",
    "Typing in the RNAplot command into the terminal command line and using the sequence of yes1 gives the following output. \n",
    "\n",
    "Start by generating one plot per riboswitch (YES-1, NOT-1, AND-1, and OR-1) with default parameters.\n"
   ]
  },
  {
   "cell_type": "code",
   "execution_count": 40,
   "metadata": {},
   "outputs": [
    {
     "name": "stdout",
     "output_type": "stream",
     "text": [
      "\n",
      ">seqyes1\n",
      "GGGCGACCCUGAUGAGCUUGGUUUAGCUCGUCACUGUCCAGGUUCAAUCAGGCGAAACGGUGAAAGCCGUAGGUUGCCC\n",
      "(((((((((((((((((((((..(((.......))).)))))))).))))).....(((((....))))).)))))))) (-35.90)\n",
      ">seqnot1\n",
      "GGCAGGUACAUACAGCUGAUGAGUCCCAAAUAGGACGAAACGCGACACACACCACUAAACCGUGCAGUGUUUUUGCGUCCUGUAUUCCACUGC\n",
      ".((((....((((((.......((((......))))...((((((.((((..(((......)))..))))..)))))).))))))....)))) (-26.30)\n",
      ">seqand1\n",
      "GGGCGACCCUGAUGAGCUUGGUUUAGUAUUUACAGCUCCAUACAUGAGGUGUUAUCCCUAUGCAAGUUCGAUCAGGCGAAACGGUGAAAGCCGUAGGUUGCCCAGAGACAAU\n",
      "((((((((((((((((((((...(((.....(((.(((.......))).))).....)))..))))))).))))).....(((((....))))).))))))))......... (-42.10)\n",
      ">seqor1\n",
      "GGGCGACCCUGAUGAGCUUGGUUGAGUAUUUACAGCUGCAUACAUGAGGUGUUCUCCCUACGCAAGUUCGAUCAGGCGAAACGGUGAAAGCCGUAGGUUGCCC\n",
      "((((((((((((((((((((((.(((.....(((.((.((....)))).))).)))...)).))))))).))))).....(((((....))))).)))))))) (-38.00)\n",
      "\n"
     ]
    }
   ],
   "source": [
    "seqs = \\\n",
    "\"\"\"\n",
    ">seqyes1\n",
    "GGGCGACCCUGAUGAGCUUGGUUUAGCUCGUCACUGUCCAGGUUCAAUCAGGCGAAACGGUGAAAGCCGUAGGUUGCCC\n",
    ">seqnot1\n",
    "GGCAGGUACAUACAGCUGAUGAGUCCCAAAUAGGACGAAACGCGACACACACCACUAAACCGUGCAGUGUUUUUGCGUCCUGUAUUCCACUGC\n",
    ">seqand1\n",
    "GGGCGACCCUGAUGAGCUUGGUUUAGUAUUUACAGCUCCAUACAUGAGGUGUUAUCCCUAUGCAAGUUCGAUCAGGCGAAACGGUGAAAGCCGUAGGUUGCCCAGAGACAAU\n",
    ">seqor1\n",
    "GGGCGACCCUGAUGAGCUUGGUUGAGUAUUUACAGCUGCAUACAUGAGGUGUUCUCCCUACGCAAGUUCGAUCAGGCGAAACGGUGAAAGCCGUAGGUUGCCC\n",
    "\"\"\"\n",
    "\n",
    "#def RNAfold (seq):\n",
    "p = subprocess.run('RNAfold', input = bytes(seqs, 'ascii'), stdout=subprocess.PIPE, stderr=subprocess.PIPE, check=True)\n",
    "print(p.stderr.decode())\n",
    "print(p.stdout.decode())\n",
    "#RNAfold(seqyes1)\n",
    "#RNAfold(seqnot1)\n",
    "#RNAfold(seqand1)\n",
    "#RNAfold(seqor1)\n",
    "\n"
   ]
  },
  {
   "cell_type": "markdown",
   "metadata": {},
   "source": [
    "## Step 4\n",
    "\n",
    "Next, simulate OBS binding in YES-1 and NOT-1. \n",
    "\n",
    "Use a dot (“.”) for every unconstrained base, and a lower-case x for every base that you want to prevent from pairing. That is to say, put an x at every base spanning the blue OBS region."
   ]
  },
  {
   "cell_type": "code",
   "execution_count": 47,
   "metadata": {},
   "outputs": [],
   "source": [
    "# create constrain for yes-1\n",
    "ofile = open(\"yes_constrain.txt\", \"w\")\n",
    "yesCst = \"..............xxxxxxxxxxxxxxxxxxxxxxxxxxxxxxxx.................................\"\n",
    "ofile.write(seqyes1+'\\n')\n",
    "ofile.write(yesCst)\n",
    "ofile.close()"
   ]
  },
  {
   "cell_type": "code",
   "execution_count": null,
   "metadata": {},
   "outputs": [],
   "source": [
    "sql = \"SELECT OBS1, OBS2\\\n",
    "        FROM riboswitches\\\n",
    "        \"\n",
    "c.execute(sql)"
   ]
  }
 ],
 "metadata": {
  "kernelspec": {
   "display_name": "Python 3",
   "language": "python",
   "name": "python3"
  },
  "language_info": {
   "codemirror_mode": {
    "name": "ipython",
    "version": 3
   },
   "file_extension": ".py",
   "mimetype": "text/x-python",
   "name": "python",
   "nbconvert_exporter": "python",
   "pygments_lexer": "ipython3",
   "version": "3.5.2"
  }
 },
 "nbformat": 4,
 "nbformat_minor": 2
}

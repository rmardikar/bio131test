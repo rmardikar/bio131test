{
 "cells": [
  {
   "cell_type": "markdown",
   "metadata": {},
   "source": [
    "# Step 1:\n",
    "Here we take the sequences used in the experiment and create a table using that data.\n",
    "\n",
    "YES-1 riboswitch from Figure 2a\n",
    "\n",
    "NOT-1 riboswitch in Figure 4a\n",
    "\n",
    "AND-1 riboswitch in Figure 5a\n",
    "\n",
    "OR-1 riboswitch in Figure 6a\n",
    "\n",
    "# Step 2:\n",
    "Typing in RNAfold into the terminal using the sequence of YES-1 as seen below in seqyes1, gives the following output:(((((((((((((((((((((..(((.......))).)))))))).))))).....(((((....))))).))))))))\n"
   ]
  },
  {
   "cell_type": "code",
   "execution_count": 13,
   "metadata": {},
   "outputs": [],
   "source": [
    "import sqlite3\n",
    "import subprocess"
   ]
  },
  {
   "cell_type": "code",
   "execution_count": 12,
   "metadata": {},
   "outputs": [],
   "source": [
    "conn = sqlite3.connect('lab5/riboswitches.db')\n",
    "c = conn.cursor()\n",
    "c.execute('CREATE TABLE riboswitches (riboswitch TEXT, OBS1 TEXT, OBS2 TEXT, red_region TEXT);')\n",
    "c.executemany('INSERT INTO riboswitches(riboswitch, OBS1, OBS2, red_region) VALUES(?, ?, ?, ?)',\n",
    "         [('YES-1', '26-47', '', '16-21, 49-54'),\n",
    "          ('NOT-1', '44-66', '', '40-44, 74-78'),\n",
    "          ('AND-1', '30-45', '49-65', '16-23, 70-77'),\n",
    "         ('OR-1', '27-46', '47-66', '16-26, 67-77')])  \n",
    "conn.commit()\n",
    "seqyes1 = 'GGGCGACCCUGAUGAGCUUGGUUUAGCUCGUCACUGUCCAGGUUCAAUCAGGCGAAACGGUGAAAGCCGUAGGUUGCCC'\n",
    "seqnot1 = 'GGCAGGUACAUACAGCUGAUGAGUCCCAAAUAGGACGAAACGCGACACACACCACUAAACCGUGCAGUGUUUUUGCGUCCUGUAUUCCACUGC'\n",
    "seqand1 = 'GGGCGACCCUGAUGAGCUUGGUUUAGUAUUUACAGCUCCAUACAUGAGGUGUUAUCCCUAUGCAAGUUCGAUCAGGCGAAACGGUGAAAGCCGUAGGUUGCCCAGAGACAAU'\n",
    "seqor1 = 'GGGCGACCCUGAUGAGCUUGGUUGAGUAUUUACAGCUGCAUACAUGAGGUGUUCUCCCUACGCAAGUUCGAUCAGGCGAAACGGUGAAAGCCGUAGGUUGCCC'\n",
    "sequences = [seqyes1, seqnot1, seqand1, seqor1]"
   ]
  },
  {
   "cell_type": "markdown",
   "metadata": {},
   "source": [
    "# Step 3: \n",
    "Now, we'll create a routine to model RNA folding.\n",
    "Typing in the RNAplot command into the terminal command line and using the sequence of yes1 gives the following output. \n",
    "\n",
    "Start by generating one plot per riboswitch (YES-1, NOT-1, AND-1, and OR-1) with default parameters.\n"
   ]
  },
  {
   "cell_type": "code",
   "execution_count": 14,
   "metadata": {},
   "outputs": [
    {
     "name": "stdout",
     "output_type": "stream",
     "text": [
      "\n",
      ">seqyes1\n",
      "GGGCGACCCUGAUGAGCUUGGUUUAGCUCGUCACUGUCCAGGUUCAAUCAGGCGAAACGGUGAAAGCCGUAGGUUGCCC\n",
      "(((((((((((((((((((((..(((.......))).)))))))).))))).....(((((....))))).)))))))) (-35.90)\n",
      ">seqnot1\n",
      "GGCAGGUACAUACAGCUGAUGAGUCCCAAAUAGGACGAAACGCGACACACACCACUAAACCGUGCAGUGUUUUUGCGUCCUGUAUUCCACUGC\n",
      ".((((....((((((.......((((......))))...((((((.((((..(((......)))..))))..)))))).))))))....)))) (-26.30)\n",
      ">seqand1\n",
      "GGGCGACCCUGAUGAGCUUGGUUUAGUAUUUACAGCUCCAUACAUGAGGUGUUAUCCCUAUGCAAGUUCGAUCAGGCGAAACGGUGAAAGCCGUAGGUUGCCCAGAGACAAU\n",
      "((((((((((((((((((((...(((.....(((.(((.......))).))).....)))..))))))).))))).....(((((....))))).))))))))......... (-42.10)\n",
      ">seqor1\n",
      "GGGCGACCCUGAUGAGCUUGGUUGAGUAUUUACAGCUGCAUACAUGAGGUGUUCUCCCUACGCAAGUUCGAUCAGGCGAAACGGUGAAAGCCGUAGGUUGCCC\n",
      "((((((((((((((((((((((.(((.....(((.((.((....)))).))).)))...)).))))))).))))).....(((((....))))).)))))))) (-38.00)\n",
      "\n"
     ]
    }
   ],
   "source": [
    "seqs = \\\n",
    "\"\"\"\n",
    ">seqyes1\n",
    "GGGCGACCCUGAUGAGCUUGGUUUAGCUCGUCACUGUCCAGGUUCAAUCAGGCGAAACGGUGAAAGCCGUAGGUUGCCC\n",
    ">seqnot1\n",
    "GGCAGGUACAUACAGCUGAUGAGUCCCAAAUAGGACGAAACGCGACACACACCACUAAACCGUGCAGUGUUUUUGCGUCCUGUAUUCCACUGC\n",
    ">seqand1\n",
    "GGGCGACCCUGAUGAGCUUGGUUUAGUAUUUACAGCUCCAUACAUGAGGUGUUAUCCCUAUGCAAGUUCGAUCAGGCGAAACGGUGAAAGCCGUAGGUUGCCCAGAGACAAU\n",
    ">seqor1\n",
    "GGGCGACCCUGAUGAGCUUGGUUGAGUAUUUACAGCUGCAUACAUGAGGUGUUCUCCCUACGCAAGUUCGAUCAGGCGAAACGGUGAAAGCCGUAGGUUGCCC\n",
    "\"\"\"\n",
    "\n",
    "#def RNAfold (seq):\n",
    "p = subprocess.run('RNAfold', input = bytes(seqs, 'ascii'), stdout=subprocess.PIPE, stderr=subprocess.PIPE, check=True)\n",
    "print(p.stderr.decode())\n",
    "print(p.stdout.decode())\n",
    "#RNAfold(seqyes1)\n",
    "#RNAfold(seqnot1)\n",
    "#RNAfold(seqand1)\n",
    "#RNAfold(seqor1)\n",
    "\n"
   ]
  },
  {
   "cell_type": "markdown",
   "metadata": {},
   "source": [
    "## Step 4\n",
    "\n",
    "Next, simulate OBS binding in YES-1 and NOT-1. \n",
    "\n",
    "(1) Use a dot (“.”) for every unconstrained base, and a lower-case x for every base that you want to prevent from pairing. That is to say, put an x at every base spanning the blue OBS region."
   ]
  },
  {
   "cell_type": "code",
   "execution_count": null,
   "metadata": {},
   "outputs": [],
   "source": [
    "# create constraint for YES-1, NOT-1, AND-1, OR-1\n",
    "seqyes1_cst = \"........................xxxxxxxxxxxxxxxxxxxxxx.................................\"\n",
    "\n",
    "seqnot1_cst = \"...........................................xxxxxxxxxxxxxxxxxxxxxxx...........................\"\n",
    "\n",
    "seqand1_cst1 = \".............................xxxxxxxxxxxxxxxx...xxxxxxxxxxxxxxxx................................................\"\n",
    "seqand1_cst2 = \".............................xxxxxxxxxxxxxxxx...................................................................\"\n",
    "seqand1_cst3 = \"................................................xxxxxxxxxxxxxxxx................................................\"\n",
    "seqand1_cst4 = \"................................................................................................................\"\n",
    "\n",
    "seqor1_cst1 = \"..........................xxxxxxxxxxxxxxxxxxxxxxxxxxxxxxxxxxxxxxxx.....................................\"\n",
    "seqor1_cst2 = \"..............................................xxxxxxxxxxxxxxxxxxxx.....................................\"\n",
    "seqor1_cst3 = \"..........................xxxxxxxxxxxxxxxxxxxx.........................................................\"\n",
    "seqor1_cst4 = \".......................................................................................................\"\n",
    "\n",
    "constraints = [seqyes1_cst, seqnot1_cst, seqand1_cst, seqor1_cst]\n",
    "\n",
    "# create output filename list\n",
    "filenames = [\"yes1_constraints\", \"not1_constraints\", \"and1_constraints\", \"or1_constraints\"]\n",
    "\n",
    "# create *1_constraints.txt\n",
    "for i in range(len(sequences)):\n",
    "    # create the output file\n",
    "    ofile = open(\"lab5/{}.txt\".format(filenames[i]), \"w\")\n",
    "    ofile.write(sequences[i]+'\\n')\n",
    "    ofile.write(constraints[i])\n",
    "    ofile.close()"
   ]
  },
  {
   "cell_type": "markdown",
   "metadata": {},
   "source": [
    "Now, fold YES-1 again with constraints and see what we get."
   ]
  },
  {
   "cell_type": "code",
   "execution_count": 41,
   "metadata": {},
   "outputs": [
    {
     "name": "stdout",
     "output_type": "stream",
     "text": [
      "yes1_constraints.txt\n",
      "CompletedProcess(args=['RNAfold', '--constraint'], returncode=0, stdout=b'GGGCGACCCUGAUGAGCUUGGUUUAGCUCGUCACUGUCCAGGUUCAAUCAGGCGAAACGGUGAAAGCCGUAGGUUGCCC\\n((((((((.......(((((((........................)))))))...(((((....))))).)))))))) (-24.10)\\n', stderr=b'')\n",
      "GGGCGACCCUGAUGAGCUUGGUUUAGCUCGUCACUGUCCAGGUUCAAUCAGGCGAAACGGUGAAAGCCGUAGGUUGCCC\n",
      "((((((((.......(((((((........................)))))))...(((((....))))).)))))))) (-24.10)\n",
      "\n"
     ]
    }
   ],
   "source": [
    "#for i in range(len(sequences)):\n",
    "print(filenames[0]+'.txt')\n",
    "YES_constraints = \\\n",
    "\"\"\"\n",
    "GGGCGACCCUGAUGAGCUUGGUUUAGCUCGUCACUGUCCAGGUUCAAUCAGGCGAAACGGUGAAAGCCGUAGGUUGCCC\\n\n",
    "........................xxxxxxxxxxxxxxxxxxxxxx.................................\n",
    "\"\"\"\n",
    "p = subprocess.run(['RNAfold', '--constraint'], input = bytes(YES_constraints, 'ascii'), stdout=subprocess.PIPE, stderr=subprocess.PIPE, check=True)\n",
    "print(p)\n",
    "print(p.stdout.decode())"
   ]
  },
  {
   "cell_type": "code",
   "execution_count": 28,
   "metadata": {
    "scrolled": true
   },
   "outputs": [
    {
     "data": {
      "text/plain": [
       "'\\nsql = \"SELECT riboswitch, OBS1, OBS2        FROM riboswitches        \"\\nc.execute(sql)\\nseqObsList = c.fetchall()\\n\\ndef makeConstraintFile(seq, tp):\\n    print(tp)\\n    ofile = open(tp[0]+\".txt\", \"w\")\\n    # get start and end for OBS1\\n    obs1 = tp[1].split(\\'-\\')\\n    print(int(obs1[0]), seq[int(obs1[0])])\\n    constraint = \\'.\\'*(int(obs1[0])-1-1) + \\'x\\'*(int(obs1[1])-int(obs1[0])+1)\\n    #print(constraint)\\n    # get start and end for OBS2\\n    #print(tp[2])\\n    if len(tp[2]) != 0:\\n        obs2 = tp[2].split(\\'-\\')\\n        constraint = constraint + \\'.\\'*(int(obs2[0])-int(obs1[1])) + \\'x\\'*(int(obs2[1])-int(obs2[0])) + \\'.\\'*(len(seq)+1-int(obs2[1]))\\n    else:\\n        constraint = constraint + \\'.\\'*(len(seq)+1-int(obs1[1]))\\n    ofile.write(seq+\\'\\n\\')\\n    ofile.write(constraint)\\n    ofile.close()\\n    print(seq)\\n    print(constraint)\\n    print(yesCst)\\n    \\nprint(len(\\'ggcagguacauacagcugaugagucccaaauaggacgaaacgc\\'))\\nfor i in range(len(sequences)):\\n    print(len(sequences[i]))\\n    makeConstraintFile(sequences[i], seqObsList[i])\\n'"
      ]
     },
     "execution_count": 28,
     "metadata": {},
     "output_type": "execute_result"
    }
   ],
   "source": [
    "\"\"\"\n",
    "sql = \"SELECT riboswitch, OBS1, OBS2\\\n",
    "        FROM riboswitches\\\n",
    "        \"\n",
    "c.execute(sql)\n",
    "seqObsList = c.fetchall()\n",
    "\n",
    "def makeConstraintFile(seq, tp):\n",
    "    print(tp)\n",
    "    ofile = open(tp[0]+\".txt\", \"w\")\n",
    "    # get start and end for OBS1\n",
    "    obs1 = tp[1].split('-')\n",
    "    print(int(obs1[0]), seq[int(obs1[0])])\n",
    "    constraint = '.'*(int(obs1[0])-1-1) + 'x'*(int(obs1[1])-int(obs1[0])+1)\n",
    "    #print(constraint)\n",
    "    # get start and end for OBS2\n",
    "    #print(tp[2])\n",
    "    if len(tp[2]) != 0:\n",
    "        obs2 = tp[2].split('-')\n",
    "        constraint = constraint + '.'*(int(obs2[0])-int(obs1[1])) + 'x'*(int(obs2[1])-int(obs2[0])) + '.'*(len(seq)+1-int(obs2[1]))\n",
    "    else:\n",
    "        constraint = constraint + '.'*(len(seq)+1-int(obs1[1]))\n",
    "    ofile.write(seq+'\\n')\n",
    "    ofile.write(constraint)\n",
    "    ofile.close()\n",
    "    print(seq)\n",
    "    print(constraint)\n",
    "    print(yesCst)\n",
    "    \n",
    "print(len('ggcagguacauacagcugaugagucccaaauaggacgaaacgc'))\n",
    "for i in range(len(sequences)):\n",
    "    print(len(sequences[i]))\n",
    "    makeConstraintFile(sequences[i], seqObsList[i])\n",
    "\"\"\""
   ]
  },
  {
   "cell_type": "code",
   "execution_count": null,
   "metadata": {},
   "outputs": [],
   "source": []
  },
  {
   "cell_type": "code",
   "execution_count": null,
   "metadata": {},
   "outputs": [],
   "source": []
  },
  {
   "cell_type": "code",
   "execution_count": null,
   "metadata": {},
   "outputs": [],
   "source": []
  },
  {
   "cell_type": "code",
   "execution_count": null,
   "metadata": {},
   "outputs": [],
   "source": []
  }
 ],
 "metadata": {
  "kernelspec": {
   "display_name": "Python 3",
   "language": "python",
   "name": "python3"
  },
  "language_info": {
   "codemirror_mode": {
    "name": "ipython",
    "version": 3
   },
   "file_extension": ".py",
   "mimetype": "text/x-python",
   "name": "python",
   "nbconvert_exporter": "python",
   "pygments_lexer": "ipython3",
   "version": "3.5.2"
  }
 },
 "nbformat": 4,
 "nbformat_minor": 2
}

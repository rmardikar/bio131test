{
 "cells": [
  {
   "cell_type": "markdown",
   "metadata": {},
   "source": [
    "# Step 1:\n",
    "Here we take the sequences used in the experiment and create a table using that data.\n",
    "\n",
    "YES-1 riboswitch from Figure 2a\n",
    "\n",
    "NOT-1 riboswitch in Figure 4a\n",
    "\n",
    "AND-1 riboswitch in Figure 5a\n",
    "\n",
    "OR-1 riboswitch in Figure 6a\n",
    "\n",
    "# Step 2:\n",
    "Typing in RNAfold into the terminal using the sequence of YES-1 as seen below in seqyes1, gives the following output:(((((((((((((((((((((..(((.......))).)))))))).))))).....(((((....))))).))))))))\n"
   ]
  },
  {
   "cell_type": "code",
   "execution_count": 28,
   "metadata": {},
   "outputs": [],
   "source": [
    "import sqlite3\n",
    "import subprocess"
   ]
  },
  {
   "cell_type": "code",
   "execution_count": 29,
   "metadata": {},
   "outputs": [],
   "source": [
    "conn = sqlite3.connect('riboswitches.db')\n",
    "c = conn.cursor()\n",
    "#c.execute('CREATE TABLE riboswitches (riboswitch TEXT, OBS1 TEXT, OBS2 TEXT, red_region TEXT);')\n",
    "c.executemany('INSERT INTO riboswitches(riboswitch, OBS1, OBS2, red_region) VALUES(?, ?, ?, ?)',\n",
    "         [('YES-1', '26-47', '', '16-21, 49-54'),\n",
    "          ('NOT-1', '44-66', '', '40-44, 74-78'),\n",
    "          ('AND-1', '30-45', '49-65', '16-23, 70-77'),\n",
    "         ('OR-1', '27-46', '47-66', '16-26, 67-77')])  \n",
    "conn.commit()\n",
    "seqyes1 = 'GGGCGACCCUGAUGAGCUUGGUUUAGCUCGUCACUGUCCAGGUUCAAUCAGGCGAAACGGUGAAAGCCGUAGGUUGCCC'\n",
    "seqnot1 = 'GGCAGGUACAUACAGCUGAUGAGUCCCAAAUAGGACGAAACGCGACACACACCACUAAACCGUGCAGUGUUUUUGCGUCCUGUAUUCCACUGC'\n",
    "seqand1 = 'GGGCGACCCUGAUGAGCUUGGUUUAGUAUUUACAGCUCCAUACAUGAGGUGUUAUCCCUAUGCAAGUUCGAUCAGGCGAAACGGUGAAAGCCGUAGGUUGCCCAGAGACAAU'\n",
    "seqor1 = 'GGGCGACCCUGAUGAGCUUGGUUGAGUAUUUACAGCUGCAUACAUGAGGUGUUCUCCCUACGCAAGUUCGAUCAGGCGAAACGGUGAAAGCCGUAGGUUGCCC'\n",
    "sequences = [seqyes1, seqnot1, seqand1, seqor1]"
   ]
  },
  {
   "cell_type": "markdown",
   "metadata": {},
   "source": [
    "# Step 3: \n",
    "Now, we'll create a routine to model RNA folding.\n",
    "Typing in the RNAplot command into the terminal command line and using the sequence of yes1 gives the following output. \n",
    "\n",
    "Start by generating one plot per riboswitch (YES-1, NOT-1, AND-1, and OR-1) with default parameters.\n",
    "\n",
    "Then we use the subprocess module to run RNAfold at ipynb. The code is as follow:\n"
   ]
  },
  {
   "cell_type": "code",
   "execution_count": null,
   "metadata": {},
   "outputs": [],
   "source": []
  },
  {
   "cell_type": "code",
   "execution_count": 30,
   "metadata": {},
   "outputs": [
    {
     "name": "stdout",
     "output_type": "stream",
     "text": [
      "\n",
      ">seqyes1\n",
      "GGGCGACCCUGAUGAGCUUGGUUUAGCUCGUCACUGUCCAGGUUCAAUCAGGCGAAACGGUGAAAGCCGUAGGUUGCCC\n",
      "(((((((((((((((((((((..(((.......))).)))))))).))))).....(((((....))))).)))))))) (-35.90)\n",
      ">seqnot1\n",
      "GGCAGGUACAUACAGCUGAUGAGUCCCAAAUAGGACGAAACGCGACACACACCACUAAACCGUGCAGUGUUUUUGCGUCCUGUAUUCCACUGC\n",
      ".((((....((((((.......((((......))))...((((((.((((..(((......)))..))))..)))))).))))))....)))) (-26.30)\n",
      ">seqand1\n",
      "GGGCGACCCUGAUGAGCUUGGUUUAGUAUUUACAGCUCCAUACAUGAGGUGUUAUCCCUAUGCAAGUUCGAUCAGGCGAAACGGUGAAAGCCGUAGGUUGCCCAGAGACAAU\n",
      "((((((((((((((((((((...(((.....(((.(((.......))).))).....)))..))))))).))))).....(((((....))))).))))))))......... (-42.10)\n",
      ">seqor1\n",
      "GGGCGACCCUGAUGAGCUUGGUUGAGUAUUUACAGCUGCAUACAUGAGGUGUUCUCCCUACGCAAGUUCGAUCAGGCGAAACGGUGAAAGCCGUAGGUUGCCC\n",
      "((((((((((((((((((((((.(((.....(((.((.((....)))).))).)))...)).))))))).))))).....(((((....))))).)))))))) (-38.00)\n",
      "\n"
     ]
    }
   ],
   "source": [
    "seqs = \\\n",
    "\"\"\"\n",
    ">seqyes1\n",
    "GGGCGACCCUGAUGAGCUUGGUUUAGCUCGUCACUGUCCAGGUUCAAUCAGGCGAAACGGUGAAAGCCGUAGGUUGCCC\n",
    ">seqnot1\n",
    "GGCAGGUACAUACAGCUGAUGAGUCCCAAAUAGGACGAAACGCGACACACACCACUAAACCGUGCAGUGUUUUUGCGUCCUGUAUUCCACUGC\n",
    ">seqand1\n",
    "GGGCGACCCUGAUGAGCUUGGUUUAGUAUUUACAGCUCCAUACAUGAGGUGUUAUCCCUAUGCAAGUUCGAUCAGGCGAAACGGUGAAAGCCGUAGGUUGCCCAGAGACAAU\n",
    ">seqor1\n",
    "GGGCGACCCUGAUGAGCUUGGUUGAGUAUUUACAGCUGCAUACAUGAGGUGUUCUCCCUACGCAAGUUCGAUCAGGCGAAACGGUGAAAGCCGUAGGUUGCCC\n",
    "\"\"\"\n",
    "\n",
    "# define the subprocess\n",
    "p = subprocess.run('RNAfold', input = bytes(seqs, 'ascii'), stdout=subprocess.PIPE, stderr=subprocess.PIPE, check=True)\n",
    "print(p.stderr.decode())\n",
    "print(p.stdout.decode())"
   ]
  },
  {
   "cell_type": "markdown",
   "metadata": {},
   "source": []
  },
  {
   "cell_type": "markdown",
   "metadata": {},
   "source": [
    "## Step 4\n",
    "\n",
    "Next, simulate OBS binding in YES-1 and NOT-1. \n",
    "\n",
    "(1) Use a dot (“.”) for every unconstrained base, and a lower-case x for every base that we want to prevent from pairing. That is to say, put an x at every base spanning the blue OBS region. We wrote the constraint for each RNA switch in text file, namely \"yes1_constraints.txt\" and \"not1_constraints.txt\"."
   ]
  },
  {
   "cell_type": "code",
   "execution_count": 31,
   "metadata": {},
   "outputs": [],
   "source": [
    "# define a function for reading the constrainfile and run the RNAfold subprocess\n",
    "def readRunConstraint(filename):\n",
    "    infile = open(filename, 'r')\n",
    "    constraintFile = infile.read()\n",
    "    p = subprocess.run(['RNAfold', '--constraint'], input = bytes(constraintFile, 'ascii'), stdout=subprocess.PIPE, stderr=subprocess.PIPE, check=True)\n",
    "    print(p.stdout.decode())"
   ]
  },
  {
   "cell_type": "code",
   "execution_count": 34,
   "metadata": {},
   "outputs": [
    {
     "name": "stdout",
     "output_type": "stream",
     "text": [
      ">yes1_cst\n",
      "GGGCGACCCUGAUGAGCUUGGUUUAGCUCGUCACUGUCCAGGUUCAAUCAGGCGAAACGGUGAAAGCCGUAGGUUGCCC\n",
      "((((((((.......(((((((........................)))))))...(((((....))))).)))))))) (-24.10)\n",
      "\n",
      ">not1_cst\n",
      "GGCAGGUACAUACAGCUGAUGAGUCCCAAAUAGGACGAAACGCGACACACACCACUAAACCGUGCAGUGUUUUUGCGUCCUGUAUUCCACUGC\n",
      ".((((....((((((..((((.((((......))))(((((((.......................)))))))..))))))))))....)))) (-20.60)\n",
      "\n"
     ]
    }
   ],
   "source": [
    "# input the constraint file for each RNA switch\n",
    "readRunConstraint(\"yes1_constraints.txt\")\n",
    "readRunConstraint(\"not1_constraints.txt\")"
   ]
  },
  {
   "cell_type": "code",
   "execution_count": null,
   "metadata": {},
   "outputs": [],
   "source": [
    "Now, fold YES-1 again with constraints and see what we get."
   ]
  },
  {
   "cell_type": "markdown",
   "metadata": {},
   "source": [
    "(2) Simulating OBS binding for AND-1 and OR-1 is more complicated. Recall that AND and OR logic gates have two inputs, and so their truth tables have four rows: F/F, T/F, F/T, and T/T. We put the 4 constrains of AND-1 and OR-1 into file \"and1_constraints.txt\" and \"or1_constraints.txt\".\n"
   ]
  },
  {
   "cell_type": "code",
   "execution_count": 33,
   "metadata": {},
   "outputs": [
    {
     "name": "stdout",
     "output_type": "stream",
     "text": [
      ">and1_cst1\n",
      "GGGCGACCCUGAUGAGCUUGGUUUAGUAUUUACAGCUCCAUACAUGAGGUGUUAUCCCUAUGCAAGUUCGAUCAGGCGAAACGGUGAAAGCCGUAGGUUGCCCAGAGACAAU\n",
      "((((((((((((((((((((...(((.....(((.(((.......))).))).....)))..))))))).))))).....(((((....))))).))))))))......... (-42.10)\n",
      ">and1_cst2\n",
      "GGGCGACCCUGAUGAGCUUGGUUUAGUAUUUACAGCUCCAUACAUGAGGUGUUAUCCCUAUGCAAGUUCGAUCAGGCGAAACGGUGAAAGCCGUAGGUUGCCCAGAGACAAU\n",
      "((((((((((((((((((((..........................(((.(....))))...))))))).))))).....(((((....))))).))))))))......... (-33.90)\n",
      ">and1_cst3\n",
      "GGGCGACCCUGAUGAGCUUGGUUUAGUAUUUACAGCUCCAUACAUGAGGUGUUAUCCCUAUGCAAGUUCGAUCAGGCGAAACGGUGAAAGCCGUAGGUUGCCCAGAGACAAU\n",
      "(((((((((((((((((((((...(((.......))))))........................))))).))))).....(((((....))))).))))))))......... (-29.60)\n",
      ">and1_cst4\n",
      "GGGCGACCCUGAUGAGCUUGGUUUAGUAUUUACAGCUCCAUACAUGAGGUGUUAUCCCUAUGCAAGUUCGAUCAGGCGAAACGGUGAAAGCCGUAGGUUGCCCAGAGACAAU\n",
      "((((((((((((((((((..............................................))))).))))).....(((((....))))).))))))))......... (-27.64)\n",
      "\n",
      ">or1_cst1\n",
      "GGGCGACCCUGAUGAGCUUGGUUGAGUAUUUACAGCUGCAUACAUGAGGUGUUCUCCCUACGCAAGUUCGAUCAGGCGAAACGGUGAAAGCCGUAGGUUGCCC\n",
      "((((((((((((((((((((((.(((.....(((.((.((....)))).))).)))...)).))))))).))))).....(((((....))))).)))))))) (-38.00)\n",
      ">or1_cst2\n",
      "GGGCGACCCUGAUGAGCUUGGUUGAGUAUUUACAGCUGCAUACAUGAGGUGUUCUCCCUACGCAAGUUCGAUCAGGCGAAACGGUGAAAGCCGUAGGUUGCCC\n",
      "((((((((((((((((((((((.(((...........................)))...)).))))))).))))).....(((((....))))).)))))))) (-34.20)\n",
      ">or1_cst3\n",
      "GGGCGACCCUGAUGAGCUUGGUUGAGUAUUUACAGCUGCAUACAUGAGGUGUUCUCCCUACGCAAGUUCGAUCAGGCGAAACGGUGAAAGCCGUAGGUUGCCC\n",
      "((((((((.......(((((((((((........................................)))))))))))...(((((....))))).)))))))) (-29.09)\n",
      ">or1_cst4\n",
      "GGGCGACCCUGAUGAGCUUGGUUGAGUAUUUACAGCUGCAUACAUGAGGUGUUCUCCCUACGCAAGUUCGAUCAGGCGAAACGGUGAAAGCCGUAGGUUGCCC\n",
      "((((((((.......(((((((((((........................................)))))))))))...(((((....))))).)))))))) (-29.09)\n",
      "\n"
     ]
    }
   ],
   "source": [
    "# input the constraint file of AND-1 and OR-1\n",
    "readRunConstraint(\"and1_constraints.txt\")\n",
    "readRunConstraint(\"or1_constraints.txt\")"
   ]
  },
  {
   "cell_type": "code",
   "execution_count": null,
   "metadata": {},
   "outputs": [],
   "source": []
  }
 ],
 "metadata": {
  "kernelspec": {
   "display_name": "Python 3",
   "language": "python",
   "name": "python3"
  },
  "language_info": {
   "codemirror_mode": {
    "name": "ipython",
    "version": 3
   },
   "file_extension": ".py",
   "mimetype": "text/x-python",
   "name": "python",
   "nbconvert_exporter": "python",
   "pygments_lexer": "ipython3",
   "version": "3.5.2"
  }
 },
 "nbformat": 4,
 "nbformat_minor": 2
}

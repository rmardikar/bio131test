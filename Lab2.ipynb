{
 "cells": [
  {
   "cell_type": "markdown",
   "metadata": {},
   "source": [
    "# Lab 2\n",
    "## Step 1\n",
    "open the seqs1.fa file and aligned the data in the file using muscle. The output is now called seqs1.aligned.fa. Then we converted the information to newick tree (plotted below)."
   ]
  },
  {
   "cell_type": "code",
   "execution_count": 32,
   "metadata": {
    "scrolled": true
   },
   "outputs": [
    {
     "name": "stdout",
     "output_type": "stream",
     "text": [
      " , hu.39\n",
      " |\n",
      " | rh.50\n",
      " |\n",
      " |_ rh.57\n",
      " |\n",
      " | rh.51\n",
      " |\n",
      " | rh.49\n",
      " |\n",
      "_, rh.53\n",
      " |\n",
      " | rh.64\n",
      " |\n",
      " , rh.61\n",
      " |\n",
      " | __ rh.58\n",
      " ||\n",
      " ||                                                  , pi.2\n",
      " ||                 _________________________________|\n",
      " ||                |                                 , pi.3\n",
      " ||                |                                 |\n",
      " ||                |                                 | pi.1\n",
      " ||                |\n",
      " ||                |                  , rh.10\n",
      " ||             ___|                 _|\n",
      " ||            |   |                | |, bb.1\n",
      " ||            |   |                | ||\n",
      " ||            |   |    ____________|  | bb.2\n",
      " ||            |   |   |            |\n",
      " ||            |   |   |            | ___ hu.17\n",
      " ||            |   |   |            ||\n",
      " ||            |   |___|             | hu.6\n",
      " ||            |       |\n",
      " ||            |       |      ___________ rh.2\n",
      " ||            |       |     |\n",
      " ||            |       |_____|               _____ rh.40\n",
      " ||            |             |              |\n",
      " ||            |             |______________| , hu.67\n",
      " ||            |                            | |\n",
      " ||            |                            |_, hu.37\n",
      " ||            |                              |\n",
      " ||            |                              |, hu.40\n",
      " ||            |                              ||\n",
      " ||            |                              || hu.66\n",
      " ||            |                              ||\n",
      " ||            |                               , hu.41\n",
      " ||            |                               |\n",
      " ||            |                               | rh.38\n",
      " ||            |                               |\n",
      " ||            |                               | hu.42\n",
      " ||            |\n",
      " ||____________|                                                                 , cy.3\n",
      " |             |                                                                 |\n",
      " |             |                                          _______________________, cy.6\n",
      " |             |                                         |                       |\n",
      " |             |                                         |                       |_ cy.4\n",
      " |             |                                         |                       |\n",
      " |             |                          _______________|                       , cy.5\n",
      " |             |                         |               |                       |\n",
      " |             |                         |               |                       | rh.13\n",
      " |             |                         |               |\n",
      " |             |                         |               |           , rh.35\n",
      " |             |                    _____|               |___________|\n",
      " |             |                   |     |                           |, rh.36\n",
      " |             |                   |     |                           ||\n",
      " |             |                   |     |                            | rh.37\n",
      " |             |                   |     |\n",
      " |             |                   |     |               __________ cy.2\n",
      " |             |                   |     |______________|\n",
      " |             |                   |                    |       ____ rh.54\n",
      " |             |      _____________|                    |______|\n",
      " |             |     |             |                           |          ____ rh.55\n",
      " |             |     |             |                           |_________|\n",
      " |             |     |             |                                     | , rh.48\n",
      " |             |     |             |                                     |_|\n",
      " |             |     |             |                                       | rh.62\n",
      " |             |     |             |\n",
      " |             |     |             |                                                  __ hu.43\n",
      " |             |     |             |_________________________________________________|\n",
      " |             |_____|                                                               |    _ hu.48\n",
      " |                   |                                                               |___|\n",
      " |                   |                                                                   |          , hu.44\n",
      " |                   |                                                                   |__________|\n",
      " |                   |                                                                              |_ hu.46\n",
      " |                   |\n",
      " |                   |                                                                                 __ hu.14\n",
      " |                   |         _______________________________________________________________________|\n",
      " |                   |        |                                                                       |     , hu.31\n",
      " |                   |________|                                                                       |_____|\n",
      " |                            |                                                                             | hu.32\n",
      " |                            |\n",
      " |                            |________________________ rh.43\n",
      " |\n",
      " | rh.52\n",
      "\n"
     ]
    }
   ],
   "source": [
    "\n",
    "from Bio import Phylo\n",
    "#from io import StringIo\n",
    "from Bio import SeqIO\n",
    "\n",
    "tree = Phylo.read(\"tree.nwk\",\"newick\")\n",
    "Phylo.draw_ascii(tree, file=None, column_width = 120)"
   ]
  },
  {
   "cell_type": "markdown",
   "metadata": {},
   "source": [
    "## Step 2\n",
    "Here we take the information in seqs1.fa and print the sequence of each chosen specimen to screen. For this part, we tested pi.1, pi.2, rh.10, hu.6, rh.2, hu.42, cy.4, cy.6, rh.55, rh.43, rh.52. The most common species matches for chosen clusters are: "
   ]
  },
  {
   "cell_type": "code",
   "execution_count": 35,
   "metadata": {},
   "outputs": [],
   "source": [
    "ofile = open(\"seqs1_t.txt\",\"w\")\n",
    "for cluster in SeqIO.parse(\"seqs1.fa\", \"fasta\"):\n",
    "    #print(cluster)\n",
    "    ofile.write(str(cluster))\n",
    "ofile.close()"
   ]
  },
  {
   "cell_type": "code",
   "execution_count": null,
   "metadata": {},
   "outputs": [],
   "source": []
  },
  {
   "cell_type": "code",
   "execution_count": null,
   "metadata": {},
   "outputs": [],
   "source": []
  }
 ],
 "metadata": {
  "kernelspec": {
   "display_name": "Python 3",
   "language": "python",
   "name": "python3"
  },
  "language_info": {
   "codemirror_mode": {
    "name": "ipython",
    "version": 3
   },
   "file_extension": ".py",
   "mimetype": "text/x-python",
   "name": "python",
   "nbconvert_exporter": "python",
   "pygments_lexer": "ipython3",
   "version": "3.6.5"
  }
 },
 "nbformat": 4,
 "nbformat_minor": 2
}
